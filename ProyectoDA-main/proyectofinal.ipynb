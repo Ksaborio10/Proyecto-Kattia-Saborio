{
 "cells": [
  {
   "cell_type": "markdown",
   "id": "4df42251-016d-42fb-871a-2a967e870f95",
   "metadata": {},
   "source": [
    "<p Style=\"text-align: right\">20/10/23 </p>\n",
    "<center><img src='logo.png'></center>"
   ]
  },
  {
   "cell_type": "markdown",
   "id": "6d68a57f-7b28-499d-be6d-7821ec40f5a7",
   "metadata": {},
   "source": [
    "<center><h1>Proyecto Final </h1></center>\n",
    "<center><h4> 3C-2023 Data Analitycs </h4></center>\n",
    "</br>\n",
    "<h1> Bienes Raices </h1>\n",
    "<h1> Kattia Saborìo Quesada </h1>"
   ]
  },
  {
   "cell_type": "markdown",
   "id": "2222dd7e-0ec6-45c9-a43d-ab2045401eb1",
   "metadata": {
    "tags": []
   },
   "source": [
    "<img src='informacion.png'><p>Información General </p>\n",
    "</br>\n",
    "<p> Requerimientos </p>\n",
    "</br>\n",
    "<p Style=\"text-align: justify\"> Durante los años 2021 y 2022 la empresa PK2, ha estado analizando \n",
    "incursionar en la venta de Bienes Rices en los Estados Unidos, siendo que \n",
    "previo a tomar una decisión respecto a dar inicio con las operaciones de \n",
    "venta de propiedades se procedió a recopilar información relacionada con \n",
    "el sector de bienes raíces de USA.\n",
    "Como resultado de la recopilación de los datos, PK2 identificó y consolido un \n",
    "set de datos con 200.000 observaciones, cada una de ellas conformadas por \n",
    "14 variables, es decir se generó un Data Set de 2.800.000 datos, razón por la \n",
    "cual se decidido contratar sus servicios para generar el proceso de análisis \n",
    "en pro de disponer de insumos para el proceso de toma de decisiones.\n",
    "Particularmente la alta gerencia de PK2 desea disponer de información que \n",
    "le permita atender las siguientes interrogantes: </p>\n",
    "\n",
    "<p>Variables :</p>\n",
    "<p>14 variables</p>\n",
    "<p>2.800.000 datos</p>\n",
    "\n",
    "\n",
    "<p>1. ¿Cuál es el ingreso anual de las propiedades vendidas?</p>\n",
    "<p>2. ¿Qué tipo de propiedad tiene mayor facilidad de venta?</p>\n",
    "<p>3. ¿En cuál ciudad o pueblo se dan mayor cantidad de ventas de \n",
    "propiedades? Y ¿Qué elementos particulares tienen esas ciudades o \n",
    "pueblos?</p>\n",
    "<p>4. ¿Cuál es el costo promedio de las propiedades residenciales y \n",
    "comerciales?</p>\n",
    "<p>5. ¿Cuál es tipo de propiedades residenciales que se vende con mayor \n",
    "frecuencia, donde y con que costo promedio?</p>\n",
    "<p>6. ¿Cuál es margen promedio de ganancia por cada una de las \n",
    "propiedades vendidas? </p>\n",
    "\n",
    "</br>\n",
    "\n",
    "\n"
   ]
  },
  {
   "cell_type": "markdown",
   "id": "a80dd682-a22e-49c9-8191-4a256e6fc950",
   "metadata": {
    "tags": []
   },
   "source": [
    "<h2 Style = \"color:#2e4347\"> 1.Carga y estandarizacion de los set de datos</h2>\n",
    "\n",
    "<p> Se realiza la carga de los set de datos para iniciar con la revision de la estructura general y de esta forma logar\n",
    "crear un archivo donde se consoliden las diferentes fuentes identificadas.</p>"
   ]
  },
  {
   "cell_type": "code",
   "execution_count": 1,
   "id": "25d6a407-8bb7-4417-a96a-c532b817c8ce",
   "metadata": {
    "tags": []
   },
   "outputs": [],
   "source": [
    "import pandas as pd # módulo para tratamiento de datos\n",
    "import numpy as np # módulo para tratamiento de matrices\n",
    "import matplotlib.pyplot as plt # módulo graficador"
   ]
  },
  {
   "cell_type": "code",
   "execution_count": 2,
   "id": "1e353c79-9e61-4210-8a1b-f479eea60bb0",
   "metadata": {
    "tags": []
   },
   "outputs": [],
   "source": [
    "df=pd.read_excel(\"Libro3.xlsx\")# todo lo que pandas lea "
   ]
  },
  {
   "cell_type": "code",
   "execution_count": 3,
   "id": "d958ad5e-bf0d-4efb-9cd0-59f9b8029587",
   "metadata": {},
   "outputs": [
    {
     "data": {
      "text/plain": [
       "(200336, 13)"
      ]
     },
     "execution_count": 3,
     "metadata": {},
     "output_type": "execute_result"
    }
   ],
   "source": [
    "df.shape"
   ]
  },
  {
   "cell_type": "code",
   "execution_count": 4,
   "id": "d9cdc9d8-594d-48f9-9b21-32f8a42db496",
   "metadata": {
    "tags": []
   },
   "outputs": [
    {
     "data": {
      "text/html": [
       "<div>\n",
       "<style scoped>\n",
       "    .dataframe tbody tr th:only-of-type {\n",
       "        vertical-align: middle;\n",
       "    }\n",
       "\n",
       "    .dataframe tbody tr th {\n",
       "        vertical-align: top;\n",
       "    }\n",
       "\n",
       "    .dataframe thead th {\n",
       "        text-align: right;\n",
       "    }\n",
       "</style>\n",
       "<table border=\"1\" class=\"dataframe\">\n",
       "  <thead>\n",
       "    <tr style=\"text-align: right;\">\n",
       "      <th></th>\n",
       "      <th>Serial Number</th>\n",
       "      <th>List Year</th>\n",
       "      <th>Date Recorded</th>\n",
       "      <th>Town</th>\n",
       "      <th>Address</th>\n",
       "      <th>Assessed Value</th>\n",
       "      <th>Sale Amount</th>\n",
       "      <th>Sales Ratio</th>\n",
       "      <th>Property Type</th>\n",
       "      <th>Residential Type</th>\n",
       "      <th>Non Use Code</th>\n",
       "      <th>Assessor Remarks</th>\n",
       "      <th>OPM remarks</th>\n",
       "    </tr>\n",
       "  </thead>\n",
       "  <tbody>\n",
       "    <tr>\n",
       "      <th>0</th>\n",
       "      <td>2020348.0</td>\n",
       "      <td>2020.0</td>\n",
       "      <td>09/13/2021</td>\n",
       "      <td>Ansonia</td>\n",
       "      <td>230 WAKELEE AVE</td>\n",
       "      <td>15050000.0</td>\n",
       "      <td>32500000.0</td>\n",
       "      <td>463.0</td>\n",
       "      <td>Commercial</td>\n",
       "      <td>NaN</td>\n",
       "      <td>NaN</td>\n",
       "      <td>NaN</td>\n",
       "      <td>NaN</td>\n",
       "    </tr>\n",
       "    <tr>\n",
       "      <th>1</th>\n",
       "      <td>20002.0</td>\n",
       "      <td>2020.0</td>\n",
       "      <td>10/02/2020</td>\n",
       "      <td>Ashford</td>\n",
       "      <td>390 TURNPIKE RD</td>\n",
       "      <td>25300000.0</td>\n",
       "      <td>43000000.0</td>\n",
       "      <td>5883.0</td>\n",
       "      <td>Residential</td>\n",
       "      <td>Single Family</td>\n",
       "      <td>NaN</td>\n",
       "      <td>NaN</td>\n",
       "      <td>NaN</td>\n",
       "    </tr>\n",
       "    <tr>\n",
       "      <th>2</th>\n",
       "      <td>200212.0</td>\n",
       "      <td>2020.0</td>\n",
       "      <td>03/09/2021</td>\n",
       "      <td>Avon</td>\n",
       "      <td>5 CHESTNUT DRIVE</td>\n",
       "      <td>13040000.0</td>\n",
       "      <td>17990000.0</td>\n",
       "      <td>7248.0</td>\n",
       "      <td>Residential</td>\n",
       "      <td>Condo</td>\n",
       "      <td>NaN</td>\n",
       "      <td>NaN</td>\n",
       "      <td>NaN</td>\n",
       "    </tr>\n",
       "    <tr>\n",
       "      <th>3</th>\n",
       "      <td>200243.0</td>\n",
       "      <td>2020.0</td>\n",
       "      <td>04/13/2021</td>\n",
       "      <td>Avon</td>\n",
       "      <td>111 NORTHINGTON DRIVE</td>\n",
       "      <td>61929000.0</td>\n",
       "      <td>89000000.0</td>\n",
       "      <td>6958.0</td>\n",
       "      <td>Residential</td>\n",
       "      <td>Single Family</td>\n",
       "      <td>NaN</td>\n",
       "      <td>NaN</td>\n",
       "      <td>NaN</td>\n",
       "    </tr>\n",
       "    <tr>\n",
       "      <th>4</th>\n",
       "      <td>200377.0</td>\n",
       "      <td>2020.0</td>\n",
       "      <td>07/02/2021</td>\n",
       "      <td>Avon</td>\n",
       "      <td>70 FAR HILLS DRIVE</td>\n",
       "      <td>86233000.0</td>\n",
       "      <td>144750000.0</td>\n",
       "      <td>5957.0</td>\n",
       "      <td>Residential</td>\n",
       "      <td>Single Family</td>\n",
       "      <td>NaN</td>\n",
       "      <td>NaN</td>\n",
       "      <td>NaN</td>\n",
       "    </tr>\n",
       "  </tbody>\n",
       "</table>\n",
       "</div>"
      ],
      "text/plain": [
       "   Serial Number  List Year Date Recorded     Town                Address  \\\n",
       "0      2020348.0     2020.0    09/13/2021  Ansonia        230 WAKELEE AVE   \n",
       "1        20002.0     2020.0    10/02/2020  Ashford        390 TURNPIKE RD   \n",
       "2       200212.0     2020.0    03/09/2021     Avon       5 CHESTNUT DRIVE   \n",
       "3       200243.0     2020.0    04/13/2021     Avon  111 NORTHINGTON DRIVE   \n",
       "4       200377.0     2020.0    07/02/2021     Avon     70 FAR HILLS DRIVE   \n",
       "\n",
       "   Assessed Value  Sale Amount  Sales Ratio Property Type Residential Type  \\\n",
       "0      15050000.0   32500000.0        463.0    Commercial              NaN   \n",
       "1      25300000.0   43000000.0       5883.0   Residential    Single Family   \n",
       "2      13040000.0   17990000.0       7248.0   Residential            Condo   \n",
       "3      61929000.0   89000000.0       6958.0   Residential    Single Family   \n",
       "4      86233000.0  144750000.0       5957.0   Residential    Single Family   \n",
       "\n",
       "  Non Use Code Assessor Remarks OPM remarks  \n",
       "0          NaN              NaN         NaN  \n",
       "1          NaN              NaN         NaN  \n",
       "2          NaN              NaN         NaN  \n",
       "3          NaN              NaN         NaN  \n",
       "4          NaN              NaN         NaN  "
      ]
     },
     "execution_count": 4,
     "metadata": {},
     "output_type": "execute_result"
    }
   ],
   "source": [
    "df.head(5)"
   ]
  },
  {
   "cell_type": "code",
   "execution_count": 5,
   "id": "04d72191-6a19-48fe-b44b-b6ae244c54a6",
   "metadata": {
    "tags": []
   },
   "outputs": [
    {
     "data": {
      "text/html": [
       "<div>\n",
       "<style scoped>\n",
       "    .dataframe tbody tr th:only-of-type {\n",
       "        vertical-align: middle;\n",
       "    }\n",
       "\n",
       "    .dataframe tbody tr th {\n",
       "        vertical-align: top;\n",
       "    }\n",
       "\n",
       "    .dataframe thead th {\n",
       "        text-align: right;\n",
       "    }\n",
       "</style>\n",
       "<table border=\"1\" class=\"dataframe\">\n",
       "  <thead>\n",
       "    <tr style=\"text-align: right;\">\n",
       "      <th></th>\n",
       "      <th>Serial Number</th>\n",
       "      <th>List Year</th>\n",
       "      <th>Date Recorded</th>\n",
       "      <th>Town</th>\n",
       "      <th>Address</th>\n",
       "      <th>Assessed Value</th>\n",
       "      <th>Sale Amount</th>\n",
       "      <th>Sales Ratio</th>\n",
       "      <th>Property Type</th>\n",
       "      <th>Residential Type</th>\n",
       "      <th>Non Use Code</th>\n",
       "      <th>Assessor Remarks</th>\n",
       "      <th>OPM remarks</th>\n",
       "    </tr>\n",
       "  </thead>\n",
       "  <tbody>\n",
       "    <tr>\n",
       "      <th>200331</th>\n",
       "      <td>20763.0</td>\n",
       "      <td>2002.0</td>\n",
       "      <td>06/17/2003</td>\n",
       "      <td>West Haven</td>\n",
       "      <td>130 JONES ST</td>\n",
       "      <td>7070000.0</td>\n",
       "      <td>17900000.0</td>\n",
       "      <td>394972067.0</td>\n",
       "      <td>NaN</td>\n",
       "      <td>NaN</td>\n",
       "      <td>NaN</td>\n",
       "      <td>NaN</td>\n",
       "      <td>NaN</td>\n",
       "    </tr>\n",
       "    <tr>\n",
       "      <th>200332</th>\n",
       "      <td>21066.0</td>\n",
       "      <td>2002.0</td>\n",
       "      <td>07/22/2003</td>\n",
       "      <td>West Hartford</td>\n",
       "      <td>15 PORTER DR</td>\n",
       "      <td>24088000.0</td>\n",
       "      <td>51500000.0</td>\n",
       "      <td>467728155.0</td>\n",
       "      <td>NaN</td>\n",
       "      <td>NaN</td>\n",
       "      <td>NaN</td>\n",
       "      <td>NaN</td>\n",
       "      <td>NaN</td>\n",
       "    </tr>\n",
       "    <tr>\n",
       "      <th>200333</th>\n",
       "      <td>30531.0</td>\n",
       "      <td>2003.0</td>\n",
       "      <td>04/15/2004</td>\n",
       "      <td>East Hartford</td>\n",
       "      <td>43 TIFFANY RD</td>\n",
       "      <td>8033000.0</td>\n",
       "      <td>13000000.0</td>\n",
       "      <td>617923077.0</td>\n",
       "      <td>NaN</td>\n",
       "      <td>NaN</td>\n",
       "      <td>14</td>\n",
       "      <td>NaN</td>\n",
       "      <td>NaN</td>\n",
       "    </tr>\n",
       "    <tr>\n",
       "      <th>200334</th>\n",
       "      <td>30624.0</td>\n",
       "      <td>2003.0</td>\n",
       "      <td>03/03/2004</td>\n",
       "      <td>Bristol</td>\n",
       "      <td>81 ANDREWS ST</td>\n",
       "      <td>6923000.0</td>\n",
       "      <td>13000000.0</td>\n",
       "      <td>532538462.0</td>\n",
       "      <td>NaN</td>\n",
       "      <td>NaN</td>\n",
       "      <td>NaN</td>\n",
       "      <td>NaN</td>\n",
       "      <td>NaN</td>\n",
       "    </tr>\n",
       "    <tr>\n",
       "      <th>200335</th>\n",
       "      <td>30434.0</td>\n",
       "      <td>2003.0</td>\n",
       "      <td>02/06/2004</td>\n",
       "      <td>Greenwich</td>\n",
       "      <td>57 PROSPECT ST</td>\n",
       "      <td>18347000.0</td>\n",
       "      <td>37500000.0</td>\n",
       "      <td>489253333.0</td>\n",
       "      <td>NaN</td>\n",
       "      <td>NaN</td>\n",
       "      <td>NaN</td>\n",
       "      <td>NaN</td>\n",
       "      <td>NaN</td>\n",
       "    </tr>\n",
       "  </tbody>\n",
       "</table>\n",
       "</div>"
      ],
      "text/plain": [
       "        Serial Number  List Year Date Recorded           Town         Address  \\\n",
       "200331        20763.0     2002.0    06/17/2003     West Haven    130 JONES ST   \n",
       "200332        21066.0     2002.0    07/22/2003  West Hartford    15 PORTER DR   \n",
       "200333        30531.0     2003.0    04/15/2004  East Hartford   43 TIFFANY RD   \n",
       "200334        30624.0     2003.0    03/03/2004        Bristol   81 ANDREWS ST   \n",
       "200335        30434.0     2003.0    02/06/2004      Greenwich  57 PROSPECT ST   \n",
       "\n",
       "        Assessed Value  Sale Amount  Sales Ratio Property Type  \\\n",
       "200331       7070000.0   17900000.0  394972067.0           NaN   \n",
       "200332      24088000.0   51500000.0  467728155.0           NaN   \n",
       "200333       8033000.0   13000000.0  617923077.0           NaN   \n",
       "200334       6923000.0   13000000.0  532538462.0           NaN   \n",
       "200335      18347000.0   37500000.0  489253333.0           NaN   \n",
       "\n",
       "       Residential Type Non Use Code Assessor Remarks OPM remarks  \n",
       "200331              NaN          NaN              NaN         NaN  \n",
       "200332              NaN          NaN              NaN         NaN  \n",
       "200333              NaN           14              NaN         NaN  \n",
       "200334              NaN          NaN              NaN         NaN  \n",
       "200335              NaN          NaN              NaN         NaN  "
      ]
     },
     "execution_count": 5,
     "metadata": {},
     "output_type": "execute_result"
    }
   ],
   "source": [
    "df.tail(5)"
   ]
  },
  {
   "cell_type": "code",
   "execution_count": 6,
   "id": "4d3be289-e48f-4c87-ae50-776dc8de8209",
   "metadata": {
    "tags": []
   },
   "outputs": [
    {
     "data": {
      "text/html": [
       "<div>\n",
       "<style scoped>\n",
       "    .dataframe tbody tr th:only-of-type {\n",
       "        vertical-align: middle;\n",
       "    }\n",
       "\n",
       "    .dataframe tbody tr th {\n",
       "        vertical-align: top;\n",
       "    }\n",
       "\n",
       "    .dataframe thead th {\n",
       "        text-align: right;\n",
       "    }\n",
       "</style>\n",
       "<table border=\"1\" class=\"dataframe\">\n",
       "  <thead>\n",
       "    <tr style=\"text-align: right;\">\n",
       "      <th></th>\n",
       "      <th>Serial Number</th>\n",
       "      <th>List Year</th>\n",
       "      <th>Date Recorded</th>\n",
       "      <th>Town</th>\n",
       "      <th>Address</th>\n",
       "      <th>Assessed Value</th>\n",
       "      <th>Sale Amount</th>\n",
       "      <th>Sales Ratio</th>\n",
       "      <th>Property Type</th>\n",
       "      <th>Residential Type</th>\n",
       "      <th>Non Use Code</th>\n",
       "      <th>Assessor Remarks</th>\n",
       "      <th>OPM remarks</th>\n",
       "    </tr>\n",
       "  </thead>\n",
       "  <tbody>\n",
       "    <tr>\n",
       "      <th>0</th>\n",
       "      <td>2020348.0</td>\n",
       "      <td>2020.0</td>\n",
       "      <td>09/13/2021</td>\n",
       "      <td>Ansonia</td>\n",
       "      <td>230 WAKELEE AVE</td>\n",
       "      <td>15050000.0</td>\n",
       "      <td>32500000.0</td>\n",
       "      <td>463.0</td>\n",
       "      <td>Commercial</td>\n",
       "      <td>NaN</td>\n",
       "      <td>NaN</td>\n",
       "      <td>NaN</td>\n",
       "      <td>NaN</td>\n",
       "    </tr>\n",
       "    <tr>\n",
       "      <th>1</th>\n",
       "      <td>20002.0</td>\n",
       "      <td>2020.0</td>\n",
       "      <td>10/02/2020</td>\n",
       "      <td>Ashford</td>\n",
       "      <td>390 TURNPIKE RD</td>\n",
       "      <td>25300000.0</td>\n",
       "      <td>43000000.0</td>\n",
       "      <td>5883.0</td>\n",
       "      <td>Residential</td>\n",
       "      <td>Single Family</td>\n",
       "      <td>NaN</td>\n",
       "      <td>NaN</td>\n",
       "      <td>NaN</td>\n",
       "    </tr>\n",
       "    <tr>\n",
       "      <th>2</th>\n",
       "      <td>200212.0</td>\n",
       "      <td>2020.0</td>\n",
       "      <td>03/09/2021</td>\n",
       "      <td>Avon</td>\n",
       "      <td>5 CHESTNUT DRIVE</td>\n",
       "      <td>13040000.0</td>\n",
       "      <td>17990000.0</td>\n",
       "      <td>7248.0</td>\n",
       "      <td>Residential</td>\n",
       "      <td>Condo</td>\n",
       "      <td>NaN</td>\n",
       "      <td>NaN</td>\n",
       "      <td>NaN</td>\n",
       "    </tr>\n",
       "    <tr>\n",
       "      <th>3</th>\n",
       "      <td>200243.0</td>\n",
       "      <td>2020.0</td>\n",
       "      <td>04/13/2021</td>\n",
       "      <td>Avon</td>\n",
       "      <td>111 NORTHINGTON DRIVE</td>\n",
       "      <td>61929000.0</td>\n",
       "      <td>89000000.0</td>\n",
       "      <td>6958.0</td>\n",
       "      <td>Residential</td>\n",
       "      <td>Single Family</td>\n",
       "      <td>NaN</td>\n",
       "      <td>NaN</td>\n",
       "      <td>NaN</td>\n",
       "    </tr>\n",
       "    <tr>\n",
       "      <th>4</th>\n",
       "      <td>200377.0</td>\n",
       "      <td>2020.0</td>\n",
       "      <td>07/02/2021</td>\n",
       "      <td>Avon</td>\n",
       "      <td>70 FAR HILLS DRIVE</td>\n",
       "      <td>86233000.0</td>\n",
       "      <td>144750000.0</td>\n",
       "      <td>5957.0</td>\n",
       "      <td>Residential</td>\n",
       "      <td>Single Family</td>\n",
       "      <td>NaN</td>\n",
       "      <td>NaN</td>\n",
       "      <td>NaN</td>\n",
       "    </tr>\n",
       "    <tr>\n",
       "      <th>...</th>\n",
       "      <td>...</td>\n",
       "      <td>...</td>\n",
       "      <td>...</td>\n",
       "      <td>...</td>\n",
       "      <td>...</td>\n",
       "      <td>...</td>\n",
       "      <td>...</td>\n",
       "      <td>...</td>\n",
       "      <td>...</td>\n",
       "      <td>...</td>\n",
       "      <td>...</td>\n",
       "      <td>...</td>\n",
       "      <td>...</td>\n",
       "    </tr>\n",
       "    <tr>\n",
       "      <th>200331</th>\n",
       "      <td>20763.0</td>\n",
       "      <td>2002.0</td>\n",
       "      <td>06/17/2003</td>\n",
       "      <td>West Haven</td>\n",
       "      <td>130 JONES ST</td>\n",
       "      <td>7070000.0</td>\n",
       "      <td>17900000.0</td>\n",
       "      <td>394972067.0</td>\n",
       "      <td>NaN</td>\n",
       "      <td>NaN</td>\n",
       "      <td>NaN</td>\n",
       "      <td>NaN</td>\n",
       "      <td>NaN</td>\n",
       "    </tr>\n",
       "    <tr>\n",
       "      <th>200332</th>\n",
       "      <td>21066.0</td>\n",
       "      <td>2002.0</td>\n",
       "      <td>07/22/2003</td>\n",
       "      <td>West Hartford</td>\n",
       "      <td>15 PORTER DR</td>\n",
       "      <td>24088000.0</td>\n",
       "      <td>51500000.0</td>\n",
       "      <td>467728155.0</td>\n",
       "      <td>NaN</td>\n",
       "      <td>NaN</td>\n",
       "      <td>NaN</td>\n",
       "      <td>NaN</td>\n",
       "      <td>NaN</td>\n",
       "    </tr>\n",
       "    <tr>\n",
       "      <th>200333</th>\n",
       "      <td>30531.0</td>\n",
       "      <td>2003.0</td>\n",
       "      <td>04/15/2004</td>\n",
       "      <td>East Hartford</td>\n",
       "      <td>43 TIFFANY RD</td>\n",
       "      <td>8033000.0</td>\n",
       "      <td>13000000.0</td>\n",
       "      <td>617923077.0</td>\n",
       "      <td>NaN</td>\n",
       "      <td>NaN</td>\n",
       "      <td>14</td>\n",
       "      <td>NaN</td>\n",
       "      <td>NaN</td>\n",
       "    </tr>\n",
       "    <tr>\n",
       "      <th>200334</th>\n",
       "      <td>30624.0</td>\n",
       "      <td>2003.0</td>\n",
       "      <td>03/03/2004</td>\n",
       "      <td>Bristol</td>\n",
       "      <td>81 ANDREWS ST</td>\n",
       "      <td>6923000.0</td>\n",
       "      <td>13000000.0</td>\n",
       "      <td>532538462.0</td>\n",
       "      <td>NaN</td>\n",
       "      <td>NaN</td>\n",
       "      <td>NaN</td>\n",
       "      <td>NaN</td>\n",
       "      <td>NaN</td>\n",
       "    </tr>\n",
       "    <tr>\n",
       "      <th>200335</th>\n",
       "      <td>30434.0</td>\n",
       "      <td>2003.0</td>\n",
       "      <td>02/06/2004</td>\n",
       "      <td>Greenwich</td>\n",
       "      <td>57 PROSPECT ST</td>\n",
       "      <td>18347000.0</td>\n",
       "      <td>37500000.0</td>\n",
       "      <td>489253333.0</td>\n",
       "      <td>NaN</td>\n",
       "      <td>NaN</td>\n",
       "      <td>NaN</td>\n",
       "      <td>NaN</td>\n",
       "      <td>NaN</td>\n",
       "    </tr>\n",
       "  </tbody>\n",
       "</table>\n",
       "<p>200336 rows × 13 columns</p>\n",
       "</div>"
      ],
      "text/plain": [
       "        Serial Number  List Year Date Recorded           Town  \\\n",
       "0           2020348.0     2020.0    09/13/2021        Ansonia   \n",
       "1             20002.0     2020.0    10/02/2020        Ashford   \n",
       "2            200212.0     2020.0    03/09/2021           Avon   \n",
       "3            200243.0     2020.0    04/13/2021           Avon   \n",
       "4            200377.0     2020.0    07/02/2021           Avon   \n",
       "...               ...        ...           ...            ...   \n",
       "200331        20763.0     2002.0    06/17/2003     West Haven   \n",
       "200332        21066.0     2002.0    07/22/2003  West Hartford   \n",
       "200333        30531.0     2003.0    04/15/2004  East Hartford   \n",
       "200334        30624.0     2003.0    03/03/2004        Bristol   \n",
       "200335        30434.0     2003.0    02/06/2004      Greenwich   \n",
       "\n",
       "                      Address  Assessed Value  Sale Amount  Sales Ratio  \\\n",
       "0             230 WAKELEE AVE      15050000.0   32500000.0        463.0   \n",
       "1             390 TURNPIKE RD      25300000.0   43000000.0       5883.0   \n",
       "2            5 CHESTNUT DRIVE      13040000.0   17990000.0       7248.0   \n",
       "3       111 NORTHINGTON DRIVE      61929000.0   89000000.0       6958.0   \n",
       "4          70 FAR HILLS DRIVE      86233000.0  144750000.0       5957.0   \n",
       "...                       ...             ...          ...          ...   \n",
       "200331           130 JONES ST       7070000.0   17900000.0  394972067.0   \n",
       "200332           15 PORTER DR      24088000.0   51500000.0  467728155.0   \n",
       "200333          43 TIFFANY RD       8033000.0   13000000.0  617923077.0   \n",
       "200334          81 ANDREWS ST       6923000.0   13000000.0  532538462.0   \n",
       "200335         57 PROSPECT ST      18347000.0   37500000.0  489253333.0   \n",
       "\n",
       "       Property Type Residential Type Non Use Code Assessor Remarks  \\\n",
       "0         Commercial              NaN          NaN              NaN   \n",
       "1        Residential    Single Family          NaN              NaN   \n",
       "2        Residential            Condo          NaN              NaN   \n",
       "3        Residential    Single Family          NaN              NaN   \n",
       "4        Residential    Single Family          NaN              NaN   \n",
       "...              ...              ...          ...              ...   \n",
       "200331           NaN              NaN          NaN              NaN   \n",
       "200332           NaN              NaN          NaN              NaN   \n",
       "200333           NaN              NaN           14              NaN   \n",
       "200334           NaN              NaN          NaN              NaN   \n",
       "200335           NaN              NaN          NaN              NaN   \n",
       "\n",
       "       OPM remarks  \n",
       "0              NaN  \n",
       "1              NaN  \n",
       "2              NaN  \n",
       "3              NaN  \n",
       "4              NaN  \n",
       "...            ...  \n",
       "200331         NaN  \n",
       "200332         NaN  \n",
       "200333         NaN  \n",
       "200334         NaN  \n",
       "200335         NaN  \n",
       "\n",
       "[200336 rows x 13 columns]"
      ]
     },
     "execution_count": 6,
     "metadata": {},
     "output_type": "execute_result"
    }
   ],
   "source": [
    "df"
   ]
  },
  {
   "cell_type": "code",
   "execution_count": 7,
   "id": "36eb7b34-3a0d-45de-b13c-83dce22ac8ef",
   "metadata": {
    "tags": []
   },
   "outputs": [
    {
     "data": {
      "text/html": [
       "<div>\n",
       "<style scoped>\n",
       "    .dataframe tbody tr th:only-of-type {\n",
       "        vertical-align: middle;\n",
       "    }\n",
       "\n",
       "    .dataframe tbody tr th {\n",
       "        vertical-align: top;\n",
       "    }\n",
       "\n",
       "    .dataframe thead th {\n",
       "        text-align: right;\n",
       "    }\n",
       "</style>\n",
       "<table border=\"1\" class=\"dataframe\">\n",
       "  <thead>\n",
       "    <tr style=\"text-align: right;\">\n",
       "      <th></th>\n",
       "      <th>Serial Number</th>\n",
       "      <th>List Year</th>\n",
       "      <th>Assessed Value</th>\n",
       "      <th>Sale Amount</th>\n",
       "      <th>Sales Ratio</th>\n",
       "    </tr>\n",
       "  </thead>\n",
       "  <tbody>\n",
       "    <tr>\n",
       "      <th>count</th>\n",
       "      <td>2.003340e+05</td>\n",
       "      <td>199998.000000</td>\n",
       "      <td>1.999930e+05</td>\n",
       "      <td>1.999930e+05</td>\n",
       "      <td>1.999930e+05</td>\n",
       "    </tr>\n",
       "    <tr>\n",
       "      <th>mean</th>\n",
       "      <td>1.114479e+06</td>\n",
       "      <td>2007.821553</td>\n",
       "      <td>2.207152e+07</td>\n",
       "      <td>3.917854e+07</td>\n",
       "      <td>3.315238e+08</td>\n",
       "    </tr>\n",
       "    <tr>\n",
       "      <th>std</th>\n",
       "      <td>1.272892e+07</td>\n",
       "      <td>8.655682</td>\n",
       "      <td>1.167706e+08</td>\n",
       "      <td>1.129725e+09</td>\n",
       "      <td>5.379511e+08</td>\n",
       "    </tr>\n",
       "    <tr>\n",
       "      <th>min</th>\n",
       "      <td>0.000000e+00</td>\n",
       "      <td>2001.000000</td>\n",
       "      <td>0.000000e+00</td>\n",
       "      <td>0.000000e+00</td>\n",
       "      <td>0.000000e+00</td>\n",
       "    </tr>\n",
       "    <tr>\n",
       "      <th>25%</th>\n",
       "      <td>1.097300e+04</td>\n",
       "      <td>2001.000000</td>\n",
       "      <td>6.916100e+06</td>\n",
       "      <td>1.300000e+07</td>\n",
       "      <td>5.781000e+03</td>\n",
       "    </tr>\n",
       "    <tr>\n",
       "      <th>50%</th>\n",
       "      <td>2.040300e+04</td>\n",
       "      <td>2002.000000</td>\n",
       "      <td>1.098900e+07</td>\n",
       "      <td>2.150000e+07</td>\n",
       "      <td>3.260916e+08</td>\n",
       "    </tr>\n",
       "    <tr>\n",
       "      <th>75%</th>\n",
       "      <td>2.000610e+05</td>\n",
       "      <td>2020.000000</td>\n",
       "      <td>1.874300e+07</td>\n",
       "      <td>3.550000e+07</td>\n",
       "      <td>5.171552e+08</td>\n",
       "    </tr>\n",
       "    <tr>\n",
       "      <th>max</th>\n",
       "      <td>2.000500e+09</td>\n",
       "      <td>2020.000000</td>\n",
       "      <td>1.149242e+10</td>\n",
       "      <td>5.000000e+11</td>\n",
       "      <td>9.999574e+09</td>\n",
       "    </tr>\n",
       "  </tbody>\n",
       "</table>\n",
       "</div>"
      ],
      "text/plain": [
       "       Serial Number      List Year  Assessed Value   Sale Amount  \\\n",
       "count   2.003340e+05  199998.000000    1.999930e+05  1.999930e+05   \n",
       "mean    1.114479e+06    2007.821553    2.207152e+07  3.917854e+07   \n",
       "std     1.272892e+07       8.655682    1.167706e+08  1.129725e+09   \n",
       "min     0.000000e+00    2001.000000    0.000000e+00  0.000000e+00   \n",
       "25%     1.097300e+04    2001.000000    6.916100e+06  1.300000e+07   \n",
       "50%     2.040300e+04    2002.000000    1.098900e+07  2.150000e+07   \n",
       "75%     2.000610e+05    2020.000000    1.874300e+07  3.550000e+07   \n",
       "max     2.000500e+09    2020.000000    1.149242e+10  5.000000e+11   \n",
       "\n",
       "        Sales Ratio  \n",
       "count  1.999930e+05  \n",
       "mean   3.315238e+08  \n",
       "std    5.379511e+08  \n",
       "min    0.000000e+00  \n",
       "25%    5.781000e+03  \n",
       "50%    3.260916e+08  \n",
       "75%    5.171552e+08  \n",
       "max    9.999574e+09  "
      ]
     },
     "execution_count": 7,
     "metadata": {},
     "output_type": "execute_result"
    }
   ],
   "source": [
    "df.describe()"
   ]
  },
  {
   "cell_type": "code",
   "execution_count": 8,
   "id": "59e1a99f-4c9a-40d9-b05e-a521e411e18c",
   "metadata": {
    "tags": []
   },
   "outputs": [
    {
     "name": "stdout",
     "output_type": "stream",
     "text": [
      "<class 'pandas.core.frame.DataFrame'>\n",
      "RangeIndex: 200336 entries, 0 to 200335\n",
      "Data columns (total 13 columns):\n",
      " #   Column            Non-Null Count   Dtype  \n",
      "---  ------            --------------   -----  \n",
      " 0   Serial Number     200334 non-null  float64\n",
      " 1   List Year         199998 non-null  float64\n",
      " 2   Date Recorded     199996 non-null  object \n",
      " 3   Town              199998 non-null  object \n",
      " 4   Address           199994 non-null  object \n",
      " 5   Assessed Value    199993 non-null  float64\n",
      " 6   Sale Amount       199993 non-null  float64\n",
      " 7   Sales Ratio       199993 non-null  float64\n",
      " 8   Property Type     66783 non-null   object \n",
      " 9   Residential Type  60935 non-null   object \n",
      " 10  Non Use Code      45747 non-null   object \n",
      " 11  Assessor Remarks  14344 non-null   object \n",
      " 12  OPM remarks       1981 non-null    object \n",
      "dtypes: float64(5), object(8)\n",
      "memory usage: 19.9+ MB\n"
     ]
    }
   ],
   "source": [
    "df.info()"
   ]
  },
  {
   "cell_type": "markdown",
   "id": "c955dec2-4647-412f-81d1-eb3feed29778",
   "metadata": {},
   "source": [
    "<h2 Style = \"color:#2e4347\"> 2. Revision de encabesados de los datos </h2>"
   ]
  },
  {
   "cell_type": "code",
   "execution_count": 9,
   "id": "b990676f-3669-4780-aead-6e48e7caf515",
   "metadata": {
    "tags": []
   },
   "outputs": [
    {
     "data": {
      "text/plain": [
       "Index(['Serial Number', 'List Year', 'Date Recorded', 'Town', 'Address',\n",
       "       'Assessed Value', 'Sale Amount', 'Sales Ratio', 'Property Type',\n",
       "       'Residential Type', 'Non Use Code', 'Assessor Remarks', 'OPM remarks'],\n",
       "      dtype='object')"
      ]
     },
     "execution_count": 9,
     "metadata": {},
     "output_type": "execute_result"
    }
   ],
   "source": [
    "df.columns"
   ]
  },
  {
   "cell_type": "code",
   "execution_count": 10,
   "id": "de234c48-cd69-4968-a68a-813c9fd76042",
   "metadata": {
    "jupyter": {
     "source_hidden": true
    },
    "tags": []
   },
   "outputs": [
    {
     "data": {
      "text/html": [
       "<div>\n",
       "<style scoped>\n",
       "    .dataframe tbody tr th:only-of-type {\n",
       "        vertical-align: middle;\n",
       "    }\n",
       "\n",
       "    .dataframe tbody tr th {\n",
       "        vertical-align: top;\n",
       "    }\n",
       "\n",
       "    .dataframe thead th {\n",
       "        text-align: right;\n",
       "    }\n",
       "</style>\n",
       "<table border=\"1\" class=\"dataframe\">\n",
       "  <thead>\n",
       "    <tr style=\"text-align: right;\">\n",
       "      <th></th>\n",
       "      <th>Serial Number</th>\n",
       "      <th>List Year</th>\n",
       "      <th>Date Recorded</th>\n",
       "      <th>Town</th>\n",
       "      <th>Address</th>\n",
       "      <th>Assessed Value</th>\n",
       "      <th>Sale Amount</th>\n",
       "      <th>Sales Ratio</th>\n",
       "      <th>Property Type</th>\n",
       "      <th>Residential Type</th>\n",
       "      <th>Non Use Code</th>\n",
       "      <th>Assessor Remarks</th>\n",
       "      <th>OPM remarks</th>\n",
       "    </tr>\n",
       "  </thead>\n",
       "  <tbody>\n",
       "    <tr>\n",
       "      <th>0</th>\n",
       "      <td>2020348.0</td>\n",
       "      <td>2020.0</td>\n",
       "      <td>09/13/2021</td>\n",
       "      <td>Ansonia</td>\n",
       "      <td>230 WAKELEE AVE</td>\n",
       "      <td>15050000.0</td>\n",
       "      <td>32500000.0</td>\n",
       "      <td>463.0</td>\n",
       "      <td>Commercial</td>\n",
       "      <td>NaN</td>\n",
       "      <td>NaN</td>\n",
       "      <td>NaN</td>\n",
       "      <td>NaN</td>\n",
       "    </tr>\n",
       "    <tr>\n",
       "      <th>1</th>\n",
       "      <td>20002.0</td>\n",
       "      <td>2020.0</td>\n",
       "      <td>10/02/2020</td>\n",
       "      <td>Ashford</td>\n",
       "      <td>390 TURNPIKE RD</td>\n",
       "      <td>25300000.0</td>\n",
       "      <td>43000000.0</td>\n",
       "      <td>5883.0</td>\n",
       "      <td>Residential</td>\n",
       "      <td>Single Family</td>\n",
       "      <td>NaN</td>\n",
       "      <td>NaN</td>\n",
       "      <td>NaN</td>\n",
       "    </tr>\n",
       "    <tr>\n",
       "      <th>2</th>\n",
       "      <td>200212.0</td>\n",
       "      <td>2020.0</td>\n",
       "      <td>03/09/2021</td>\n",
       "      <td>Avon</td>\n",
       "      <td>5 CHESTNUT DRIVE</td>\n",
       "      <td>13040000.0</td>\n",
       "      <td>17990000.0</td>\n",
       "      <td>7248.0</td>\n",
       "      <td>Residential</td>\n",
       "      <td>Condo</td>\n",
       "      <td>NaN</td>\n",
       "      <td>NaN</td>\n",
       "      <td>NaN</td>\n",
       "    </tr>\n",
       "    <tr>\n",
       "      <th>3</th>\n",
       "      <td>200243.0</td>\n",
       "      <td>2020.0</td>\n",
       "      <td>04/13/2021</td>\n",
       "      <td>Avon</td>\n",
       "      <td>111 NORTHINGTON DRIVE</td>\n",
       "      <td>61929000.0</td>\n",
       "      <td>89000000.0</td>\n",
       "      <td>6958.0</td>\n",
       "      <td>Residential</td>\n",
       "      <td>Single Family</td>\n",
       "      <td>NaN</td>\n",
       "      <td>NaN</td>\n",
       "      <td>NaN</td>\n",
       "    </tr>\n",
       "    <tr>\n",
       "      <th>4</th>\n",
       "      <td>200377.0</td>\n",
       "      <td>2020.0</td>\n",
       "      <td>07/02/2021</td>\n",
       "      <td>Avon</td>\n",
       "      <td>70 FAR HILLS DRIVE</td>\n",
       "      <td>86233000.0</td>\n",
       "      <td>144750000.0</td>\n",
       "      <td>5957.0</td>\n",
       "      <td>Residential</td>\n",
       "      <td>Single Family</td>\n",
       "      <td>NaN</td>\n",
       "      <td>NaN</td>\n",
       "      <td>NaN</td>\n",
       "    </tr>\n",
       "    <tr>\n",
       "      <th>5</th>\n",
       "      <td>200109.0</td>\n",
       "      <td>2020.0</td>\n",
       "      <td>12/09/2020</td>\n",
       "      <td>Avon</td>\n",
       "      <td>57 FAR HILLS DRIVE</td>\n",
       "      <td>84752000.0</td>\n",
       "      <td>125000000.0</td>\n",
       "      <td>678.0</td>\n",
       "      <td>Residential</td>\n",
       "      <td>Single Family</td>\n",
       "      <td>NaN</td>\n",
       "      <td>NaN</td>\n",
       "      <td>NaN</td>\n",
       "    </tr>\n",
       "    <tr>\n",
       "      <th>6</th>\n",
       "      <td>2020180.0</td>\n",
       "      <td>2020.0</td>\n",
       "      <td>03/01/2021</td>\n",
       "      <td>Berlin</td>\n",
       "      <td>1539 FARMINGTON AVE</td>\n",
       "      <td>23420000.0</td>\n",
       "      <td>13000000.0</td>\n",
       "      <td>18015.0</td>\n",
       "      <td>Residential</td>\n",
       "      <td>Two Family</td>\n",
       "      <td>08 - Part Interest</td>\n",
       "      <td>NaN</td>\n",
       "      <td>NaN</td>\n",
       "    </tr>\n",
       "    <tr>\n",
       "      <th>7</th>\n",
       "      <td>2020313.0</td>\n",
       "      <td>2020.0</td>\n",
       "      <td>07/01/2021</td>\n",
       "      <td>Berlin</td>\n",
       "      <td>216 WATCH HILL RD</td>\n",
       "      <td>41200000.0</td>\n",
       "      <td>67750000.0</td>\n",
       "      <td>6081.0</td>\n",
       "      <td>Residential</td>\n",
       "      <td>Single Family</td>\n",
       "      <td>NaN</td>\n",
       "      <td>NaN</td>\n",
       "      <td>NaN</td>\n",
       "    </tr>\n",
       "    <tr>\n",
       "      <th>8</th>\n",
       "      <td>200097.0</td>\n",
       "      <td>2020.0</td>\n",
       "      <td>06/04/2021</td>\n",
       "      <td>Bethany</td>\n",
       "      <td>23 AMITY RD</td>\n",
       "      <td>51100000.0</td>\n",
       "      <td>79500000.0</td>\n",
       "      <td>6427.0</td>\n",
       "      <td>Commercial</td>\n",
       "      <td>NaN</td>\n",
       "      <td>NaN</td>\n",
       "      <td>NaN</td>\n",
       "      <td>NaN</td>\n",
       "    </tr>\n",
       "    <tr>\n",
       "      <th>9</th>\n",
       "      <td>20139.0</td>\n",
       "      <td>2020.0</td>\n",
       "      <td>12/16/2020</td>\n",
       "      <td>Bethel</td>\n",
       "      <td>16 DEEPWOOD DRIVE</td>\n",
       "      <td>17136000.0</td>\n",
       "      <td>33500000.0</td>\n",
       "      <td>5115.0</td>\n",
       "      <td>Residential</td>\n",
       "      <td>Single Family</td>\n",
       "      <td>NaN</td>\n",
       "      <td>NaN</td>\n",
       "      <td>NaN</td>\n",
       "    </tr>\n",
       "  </tbody>\n",
       "</table>\n",
       "</div>"
      ],
      "text/plain": [
       "   Serial Number  List Year Date Recorded     Town                Address  \\\n",
       "0      2020348.0     2020.0    09/13/2021  Ansonia        230 WAKELEE AVE   \n",
       "1        20002.0     2020.0    10/02/2020  Ashford        390 TURNPIKE RD   \n",
       "2       200212.0     2020.0    03/09/2021     Avon       5 CHESTNUT DRIVE   \n",
       "3       200243.0     2020.0    04/13/2021     Avon  111 NORTHINGTON DRIVE   \n",
       "4       200377.0     2020.0    07/02/2021     Avon     70 FAR HILLS DRIVE   \n",
       "5       200109.0     2020.0    12/09/2020     Avon     57 FAR HILLS DRIVE   \n",
       "6      2020180.0     2020.0    03/01/2021   Berlin    1539 FARMINGTON AVE   \n",
       "7      2020313.0     2020.0    07/01/2021   Berlin      216 WATCH HILL RD   \n",
       "8       200097.0     2020.0    06/04/2021  Bethany            23 AMITY RD   \n",
       "9        20139.0     2020.0    12/16/2020   Bethel      16 DEEPWOOD DRIVE   \n",
       "\n",
       "   Assessed Value  Sale Amount  Sales Ratio Property Type Residential Type  \\\n",
       "0      15050000.0   32500000.0        463.0    Commercial              NaN   \n",
       "1      25300000.0   43000000.0       5883.0   Residential    Single Family   \n",
       "2      13040000.0   17990000.0       7248.0   Residential            Condo   \n",
       "3      61929000.0   89000000.0       6958.0   Residential    Single Family   \n",
       "4      86233000.0  144750000.0       5957.0   Residential    Single Family   \n",
       "5      84752000.0  125000000.0        678.0   Residential    Single Family   \n",
       "6      23420000.0   13000000.0      18015.0   Residential       Two Family   \n",
       "7      41200000.0   67750000.0       6081.0   Residential    Single Family   \n",
       "8      51100000.0   79500000.0       6427.0    Commercial              NaN   \n",
       "9      17136000.0   33500000.0       5115.0   Residential    Single Family   \n",
       "\n",
       "         Non Use Code Assessor Remarks OPM remarks  \n",
       "0                 NaN              NaN         NaN  \n",
       "1                 NaN              NaN         NaN  \n",
       "2                 NaN              NaN         NaN  \n",
       "3                 NaN              NaN         NaN  \n",
       "4                 NaN              NaN         NaN  \n",
       "5                 NaN              NaN         NaN  \n",
       "6  08 - Part Interest              NaN         NaN  \n",
       "7                 NaN              NaN         NaN  \n",
       "8                 NaN              NaN         NaN  \n",
       "9                 NaN              NaN         NaN  "
      ]
     },
     "execution_count": 10,
     "metadata": {},
     "output_type": "execute_result"
    }
   ],
   "source": [
    "df.replace('NaN', np.nan,inplace=True)\n",
    "df.head(10)"
   ]
  },
  {
   "cell_type": "code",
   "execution_count": 11,
   "id": "8bf8f42c-e2ef-4315-9652-0d7af1d043a9",
   "metadata": {
    "tags": []
   },
   "outputs": [
    {
     "data": {
      "text/plain": [
       "Index(['SerialNumber', 'ListYear', 'DateRecorded', 'Town', 'Address',\n",
       "       'Assessed Value', 'SaleAmount', 'SalesRatio', 'PropertyType',\n",
       "       'ResidentialType', 'NoNuseCode', 'AssessorRemarks', 'OpmRemarks'],\n",
       "      dtype='object')"
      ]
     },
     "execution_count": 11,
     "metadata": {},
     "output_type": "execute_result"
    }
   ],
   "source": [
    "df.rename({'Serial Number':'SerialNumber'},axis=1,inplace=True)\n",
    "df.rename({'List Year':'ListYear'},axis=1,inplace=True)\n",
    "df.rename({'Date Recorded':'DateRecorded'},axis=1,inplace=True)\n",
    "df.rename({'Town':'Town'},axis=1,inplace=True)\n",
    "df.rename({'Address':'Address'},axis=1,inplace=True)\n",
    "df.rename({'Sale Amount':'SaleAmount'},axis=1,inplace=True)\n",
    "df.rename({'Sales Ratio':'SalesRatio'},axis=1,inplace=True)\n",
    "df.rename({'Property Type':'PropertyType'},axis=1,inplace=True)\n",
    "df.rename({'Residential Type':'ResidentialType'},axis=1,inplace=True)\n",
    "df.rename({'Non Use Code':'NoNuseCode'},axis=1,inplace=True)\n",
    "df.rename({'Assessor Remarks':'AssessorRemarks'},axis=1,inplace=True)\n",
    "df.rename({'OPM remarks':'OpmRemarks'},axis=1,inplace=True)  \n",
    "df.columns                     "
   ]
  },
  {
   "cell_type": "code",
   "execution_count": 12,
   "id": "134f2188-0b65-4c94-b1fd-709ba7535cb8",
   "metadata": {},
   "outputs": [
    {
     "data": {
      "text/html": [
       "<div>\n",
       "<style scoped>\n",
       "    .dataframe tbody tr th:only-of-type {\n",
       "        vertical-align: middle;\n",
       "    }\n",
       "\n",
       "    .dataframe tbody tr th {\n",
       "        vertical-align: top;\n",
       "    }\n",
       "\n",
       "    .dataframe thead th {\n",
       "        text-align: right;\n",
       "    }\n",
       "</style>\n",
       "<table border=\"1\" class=\"dataframe\">\n",
       "  <thead>\n",
       "    <tr style=\"text-align: right;\">\n",
       "      <th></th>\n",
       "      <th>SerialNumber</th>\n",
       "      <th>ListYear</th>\n",
       "      <th>DateRecorded</th>\n",
       "      <th>Town</th>\n",
       "      <th>Address</th>\n",
       "      <th>Assessed Value</th>\n",
       "      <th>SaleAmount</th>\n",
       "      <th>SalesRatio</th>\n",
       "      <th>PropertyType</th>\n",
       "      <th>ResidentialType</th>\n",
       "      <th>NoNuseCode</th>\n",
       "      <th>AssessorRemarks</th>\n",
       "      <th>OpmRemarks</th>\n",
       "    </tr>\n",
       "  </thead>\n",
       "  <tbody>\n",
       "    <tr>\n",
       "      <th>0</th>\n",
       "      <td>2020348.0</td>\n",
       "      <td>2020.0</td>\n",
       "      <td>09/13/2021</td>\n",
       "      <td>Ansonia</td>\n",
       "      <td>230 WAKELEE AVE</td>\n",
       "      <td>15050000.0</td>\n",
       "      <td>32500000.0</td>\n",
       "      <td>463.0</td>\n",
       "      <td>Commercial</td>\n",
       "      <td>NaN</td>\n",
       "      <td>NaN</td>\n",
       "      <td>NaN</td>\n",
       "      <td>NaN</td>\n",
       "    </tr>\n",
       "    <tr>\n",
       "      <th>1</th>\n",
       "      <td>20002.0</td>\n",
       "      <td>2020.0</td>\n",
       "      <td>10/02/2020</td>\n",
       "      <td>Ashford</td>\n",
       "      <td>390 TURNPIKE RD</td>\n",
       "      <td>25300000.0</td>\n",
       "      <td>43000000.0</td>\n",
       "      <td>5883.0</td>\n",
       "      <td>Residential</td>\n",
       "      <td>Single Family</td>\n",
       "      <td>NaN</td>\n",
       "      <td>NaN</td>\n",
       "      <td>NaN</td>\n",
       "    </tr>\n",
       "    <tr>\n",
       "      <th>2</th>\n",
       "      <td>200212.0</td>\n",
       "      <td>2020.0</td>\n",
       "      <td>03/09/2021</td>\n",
       "      <td>Avon</td>\n",
       "      <td>5 CHESTNUT DRIVE</td>\n",
       "      <td>13040000.0</td>\n",
       "      <td>17990000.0</td>\n",
       "      <td>7248.0</td>\n",
       "      <td>Residential</td>\n",
       "      <td>Condo</td>\n",
       "      <td>NaN</td>\n",
       "      <td>NaN</td>\n",
       "      <td>NaN</td>\n",
       "    </tr>\n",
       "    <tr>\n",
       "      <th>3</th>\n",
       "      <td>200243.0</td>\n",
       "      <td>2020.0</td>\n",
       "      <td>04/13/2021</td>\n",
       "      <td>Avon</td>\n",
       "      <td>111 NORTHINGTON DRIVE</td>\n",
       "      <td>61929000.0</td>\n",
       "      <td>89000000.0</td>\n",
       "      <td>6958.0</td>\n",
       "      <td>Residential</td>\n",
       "      <td>Single Family</td>\n",
       "      <td>NaN</td>\n",
       "      <td>NaN</td>\n",
       "      <td>NaN</td>\n",
       "    </tr>\n",
       "    <tr>\n",
       "      <th>4</th>\n",
       "      <td>200377.0</td>\n",
       "      <td>2020.0</td>\n",
       "      <td>07/02/2021</td>\n",
       "      <td>Avon</td>\n",
       "      <td>70 FAR HILLS DRIVE</td>\n",
       "      <td>86233000.0</td>\n",
       "      <td>144750000.0</td>\n",
       "      <td>5957.0</td>\n",
       "      <td>Residential</td>\n",
       "      <td>Single Family</td>\n",
       "      <td>NaN</td>\n",
       "      <td>NaN</td>\n",
       "      <td>NaN</td>\n",
       "    </tr>\n",
       "  </tbody>\n",
       "</table>\n",
       "</div>"
      ],
      "text/plain": [
       "   SerialNumber  ListYear DateRecorded     Town                Address  \\\n",
       "0     2020348.0    2020.0   09/13/2021  Ansonia        230 WAKELEE AVE   \n",
       "1       20002.0    2020.0   10/02/2020  Ashford        390 TURNPIKE RD   \n",
       "2      200212.0    2020.0   03/09/2021     Avon       5 CHESTNUT DRIVE   \n",
       "3      200243.0    2020.0   04/13/2021     Avon  111 NORTHINGTON DRIVE   \n",
       "4      200377.0    2020.0   07/02/2021     Avon     70 FAR HILLS DRIVE   \n",
       "\n",
       "   Assessed Value   SaleAmount  SalesRatio PropertyType ResidentialType  \\\n",
       "0      15050000.0   32500000.0       463.0   Commercial             NaN   \n",
       "1      25300000.0   43000000.0      5883.0  Residential   Single Family   \n",
       "2      13040000.0   17990000.0      7248.0  Residential           Condo   \n",
       "3      61929000.0   89000000.0      6958.0  Residential   Single Family   \n",
       "4      86233000.0  144750000.0      5957.0  Residential   Single Family   \n",
       "\n",
       "  NoNuseCode AssessorRemarks OpmRemarks  \n",
       "0        NaN             NaN        NaN  \n",
       "1        NaN             NaN        NaN  \n",
       "2        NaN             NaN        NaN  \n",
       "3        NaN             NaN        NaN  \n",
       "4        NaN             NaN        NaN  "
      ]
     },
     "execution_count": 12,
     "metadata": {},
     "output_type": "execute_result"
    }
   ],
   "source": [
    "df.head(5)"
   ]
  },
  {
   "cell_type": "markdown",
   "id": "b4d653ec-690e-425f-8196-5304ce87d02c",
   "metadata": {},
   "source": [
    "<h2 Style = \"color:#2e4347\"> 3. Manejo de datos Faltantes </h2>"
   ]
  },
  {
   "cell_type": "code",
   "execution_count": 13,
   "id": "f65e34ca-31ed-4167-a11a-7520eab68881",
   "metadata": {
    "tags": []
   },
   "outputs": [
    {
     "data": {
      "text/plain": [
       "SerialNumber        0.000998\n",
       "ListYear            0.168717\n",
       "DateRecorded        0.169715\n",
       "Town                0.168717\n",
       "Address             0.170713\n",
       "Assessed Value      0.171212\n",
       "SaleAmount          0.171212\n",
       "SalesRatio          0.171212\n",
       "PropertyType       66.664504\n",
       "ResidentialType    69.583600\n",
       "NoNuseCode         77.164863\n",
       "AssessorRemarks    92.840029\n",
       "OpmRemarks         99.011161\n",
       "dtype: float64"
      ]
     },
     "execution_count": 13,
     "metadata": {},
     "output_type": "execute_result"
    }
   ],
   "source": [
    "df.isna().sum()/df.shape[0]*100"
   ]
  },
  {
   "cell_type": "code",
   "execution_count": 14,
   "id": "4598823d-cd10-4d95-a79c-de5449a6057f",
   "metadata": {
    "tags": []
   },
   "outputs": [],
   "source": [
    "dfimput01 = df.dropna() "
   ]
  },
  {
   "cell_type": "code",
   "execution_count": 15,
   "id": "9a04c2d8-c19f-4cc7-bfa6-0be0933edbbe",
   "metadata": {},
   "outputs": [
    {
     "data": {
      "text/html": [
       "<div>\n",
       "<style scoped>\n",
       "    .dataframe tbody tr th:only-of-type {\n",
       "        vertical-align: middle;\n",
       "    }\n",
       "\n",
       "    .dataframe tbody tr th {\n",
       "        vertical-align: top;\n",
       "    }\n",
       "\n",
       "    .dataframe thead th {\n",
       "        text-align: right;\n",
       "    }\n",
       "</style>\n",
       "<table border=\"1\" class=\"dataframe\">\n",
       "  <thead>\n",
       "    <tr style=\"text-align: right;\">\n",
       "      <th></th>\n",
       "      <th>SerialNumber</th>\n",
       "      <th>ListYear</th>\n",
       "      <th>DateRecorded</th>\n",
       "      <th>Town</th>\n",
       "      <th>Address</th>\n",
       "      <th>Assessed Value</th>\n",
       "      <th>SaleAmount</th>\n",
       "      <th>SalesRatio</th>\n",
       "      <th>PropertyType</th>\n",
       "      <th>ResidentialType</th>\n",
       "      <th>NoNuseCode</th>\n",
       "      <th>AssessorRemarks</th>\n",
       "      <th>OpmRemarks</th>\n",
       "    </tr>\n",
       "  </thead>\n",
       "  <tbody>\n",
       "    <tr>\n",
       "      <th>0</th>\n",
       "      <td>2020348.0</td>\n",
       "      <td>2020.0</td>\n",
       "      <td>09/13/2021</td>\n",
       "      <td>Ansonia</td>\n",
       "      <td>230 WAKELEE AVE</td>\n",
       "      <td>15050000.0</td>\n",
       "      <td>32500000.0</td>\n",
       "      <td>463.0</td>\n",
       "      <td>Commercial</td>\n",
       "      <td>NaN</td>\n",
       "      <td>NaN</td>\n",
       "      <td>NaN</td>\n",
       "      <td>NaN</td>\n",
       "    </tr>\n",
       "    <tr>\n",
       "      <th>1</th>\n",
       "      <td>20002.0</td>\n",
       "      <td>2020.0</td>\n",
       "      <td>10/02/2020</td>\n",
       "      <td>Ashford</td>\n",
       "      <td>390 TURNPIKE RD</td>\n",
       "      <td>25300000.0</td>\n",
       "      <td>43000000.0</td>\n",
       "      <td>5883.0</td>\n",
       "      <td>Residential</td>\n",
       "      <td>Single Family</td>\n",
       "      <td>NaN</td>\n",
       "      <td>NaN</td>\n",
       "      <td>NaN</td>\n",
       "    </tr>\n",
       "    <tr>\n",
       "      <th>2</th>\n",
       "      <td>200212.0</td>\n",
       "      <td>2020.0</td>\n",
       "      <td>03/09/2021</td>\n",
       "      <td>Avon</td>\n",
       "      <td>5 CHESTNUT DRIVE</td>\n",
       "      <td>13040000.0</td>\n",
       "      <td>17990000.0</td>\n",
       "      <td>7248.0</td>\n",
       "      <td>Residential</td>\n",
       "      <td>Condo</td>\n",
       "      <td>NaN</td>\n",
       "      <td>NaN</td>\n",
       "      <td>NaN</td>\n",
       "    </tr>\n",
       "    <tr>\n",
       "      <th>3</th>\n",
       "      <td>200243.0</td>\n",
       "      <td>2020.0</td>\n",
       "      <td>04/13/2021</td>\n",
       "      <td>Avon</td>\n",
       "      <td>111 NORTHINGTON DRIVE</td>\n",
       "      <td>61929000.0</td>\n",
       "      <td>89000000.0</td>\n",
       "      <td>6958.0</td>\n",
       "      <td>Residential</td>\n",
       "      <td>Single Family</td>\n",
       "      <td>NaN</td>\n",
       "      <td>NaN</td>\n",
       "      <td>NaN</td>\n",
       "    </tr>\n",
       "    <tr>\n",
       "      <th>4</th>\n",
       "      <td>200377.0</td>\n",
       "      <td>2020.0</td>\n",
       "      <td>07/02/2021</td>\n",
       "      <td>Avon</td>\n",
       "      <td>70 FAR HILLS DRIVE</td>\n",
       "      <td>86233000.0</td>\n",
       "      <td>144750000.0</td>\n",
       "      <td>5957.0</td>\n",
       "      <td>Residential</td>\n",
       "      <td>Single Family</td>\n",
       "      <td>NaN</td>\n",
       "      <td>NaN</td>\n",
       "      <td>NaN</td>\n",
       "    </tr>\n",
       "  </tbody>\n",
       "</table>\n",
       "</div>"
      ],
      "text/plain": [
       "   SerialNumber  ListYear DateRecorded     Town                Address  \\\n",
       "0     2020348.0    2020.0   09/13/2021  Ansonia        230 WAKELEE AVE   \n",
       "1       20002.0    2020.0   10/02/2020  Ashford        390 TURNPIKE RD   \n",
       "2      200212.0    2020.0   03/09/2021     Avon       5 CHESTNUT DRIVE   \n",
       "3      200243.0    2020.0   04/13/2021     Avon  111 NORTHINGTON DRIVE   \n",
       "4      200377.0    2020.0   07/02/2021     Avon     70 FAR HILLS DRIVE   \n",
       "\n",
       "   Assessed Value   SaleAmount  SalesRatio PropertyType ResidentialType  \\\n",
       "0      15050000.0   32500000.0       463.0   Commercial             NaN   \n",
       "1      25300000.0   43000000.0      5883.0  Residential   Single Family   \n",
       "2      13040000.0   17990000.0      7248.0  Residential           Condo   \n",
       "3      61929000.0   89000000.0      6958.0  Residential   Single Family   \n",
       "4      86233000.0  144750000.0      5957.0  Residential   Single Family   \n",
       "\n",
       "  NoNuseCode AssessorRemarks OpmRemarks  \n",
       "0        NaN             NaN        NaN  \n",
       "1        NaN             NaN        NaN  \n",
       "2        NaN             NaN        NaN  \n",
       "3        NaN             NaN        NaN  \n",
       "4        NaN             NaN        NaN  "
      ]
     },
     "execution_count": 15,
     "metadata": {},
     "output_type": "execute_result"
    }
   ],
   "source": [
    "df.replace(' ', np.nan,inplace=True)\n",
    "df.head()"
   ]
  },
  {
   "cell_type": "markdown",
   "id": "d17e1e19-57a6-4026-be03-329848eb4824",
   "metadata": {},
   "source": [
    "<h2 Style = \"color:#2e4347\"> 4.Contar valores faltantes </h2>"
   ]
  },
  {
   "cell_type": "code",
   "execution_count": 16,
   "id": "0a93fe55-6b0d-4243-a3a3-44ae5fecfb58",
   "metadata": {
    "tags": []
   },
   "outputs": [
    {
     "data": {
      "text/html": [
       "<div>\n",
       "<style scoped>\n",
       "    .dataframe tbody tr th:only-of-type {\n",
       "        vertical-align: middle;\n",
       "    }\n",
       "\n",
       "    .dataframe tbody tr th {\n",
       "        vertical-align: top;\n",
       "    }\n",
       "\n",
       "    .dataframe thead th {\n",
       "        text-align: right;\n",
       "    }\n",
       "</style>\n",
       "<table border=\"1\" class=\"dataframe\">\n",
       "  <thead>\n",
       "    <tr style=\"text-align: right;\">\n",
       "      <th></th>\n",
       "      <th>SerialNumber</th>\n",
       "      <th>ListYear</th>\n",
       "      <th>DateRecorded</th>\n",
       "      <th>Town</th>\n",
       "      <th>Address</th>\n",
       "      <th>Assessed Value</th>\n",
       "      <th>SaleAmount</th>\n",
       "      <th>SalesRatio</th>\n",
       "      <th>PropertyType</th>\n",
       "      <th>ResidentialType</th>\n",
       "      <th>NoNuseCode</th>\n",
       "      <th>AssessorRemarks</th>\n",
       "      <th>OpmRemarks</th>\n",
       "    </tr>\n",
       "  </thead>\n",
       "  <tbody>\n",
       "    <tr>\n",
       "      <th>0</th>\n",
       "      <td>False</td>\n",
       "      <td>False</td>\n",
       "      <td>False</td>\n",
       "      <td>False</td>\n",
       "      <td>False</td>\n",
       "      <td>False</td>\n",
       "      <td>False</td>\n",
       "      <td>False</td>\n",
       "      <td>False</td>\n",
       "      <td>True</td>\n",
       "      <td>True</td>\n",
       "      <td>True</td>\n",
       "      <td>True</td>\n",
       "    </tr>\n",
       "    <tr>\n",
       "      <th>1</th>\n",
       "      <td>False</td>\n",
       "      <td>False</td>\n",
       "      <td>False</td>\n",
       "      <td>False</td>\n",
       "      <td>False</td>\n",
       "      <td>False</td>\n",
       "      <td>False</td>\n",
       "      <td>False</td>\n",
       "      <td>False</td>\n",
       "      <td>False</td>\n",
       "      <td>True</td>\n",
       "      <td>True</td>\n",
       "      <td>True</td>\n",
       "    </tr>\n",
       "    <tr>\n",
       "      <th>2</th>\n",
       "      <td>False</td>\n",
       "      <td>False</td>\n",
       "      <td>False</td>\n",
       "      <td>False</td>\n",
       "      <td>False</td>\n",
       "      <td>False</td>\n",
       "      <td>False</td>\n",
       "      <td>False</td>\n",
       "      <td>False</td>\n",
       "      <td>False</td>\n",
       "      <td>True</td>\n",
       "      <td>True</td>\n",
       "      <td>True</td>\n",
       "    </tr>\n",
       "    <tr>\n",
       "      <th>3</th>\n",
       "      <td>False</td>\n",
       "      <td>False</td>\n",
       "      <td>False</td>\n",
       "      <td>False</td>\n",
       "      <td>False</td>\n",
       "      <td>False</td>\n",
       "      <td>False</td>\n",
       "      <td>False</td>\n",
       "      <td>False</td>\n",
       "      <td>False</td>\n",
       "      <td>True</td>\n",
       "      <td>True</td>\n",
       "      <td>True</td>\n",
       "    </tr>\n",
       "    <tr>\n",
       "      <th>4</th>\n",
       "      <td>False</td>\n",
       "      <td>False</td>\n",
       "      <td>False</td>\n",
       "      <td>False</td>\n",
       "      <td>False</td>\n",
       "      <td>False</td>\n",
       "      <td>False</td>\n",
       "      <td>False</td>\n",
       "      <td>False</td>\n",
       "      <td>False</td>\n",
       "      <td>True</td>\n",
       "      <td>True</td>\n",
       "      <td>True</td>\n",
       "    </tr>\n",
       "  </tbody>\n",
       "</table>\n",
       "</div>"
      ],
      "text/plain": [
       "   SerialNumber  ListYear  DateRecorded   Town  Address  Assessed Value  \\\n",
       "0         False     False         False  False    False           False   \n",
       "1         False     False         False  False    False           False   \n",
       "2         False     False         False  False    False           False   \n",
       "3         False     False         False  False    False           False   \n",
       "4         False     False         False  False    False           False   \n",
       "\n",
       "   SaleAmount  SalesRatio  PropertyType  ResidentialType  NoNuseCode  \\\n",
       "0       False       False         False             True        True   \n",
       "1       False       False         False            False        True   \n",
       "2       False       False         False            False        True   \n",
       "3       False       False         False            False        True   \n",
       "4       False       False         False            False        True   \n",
       "\n",
       "   AssessorRemarks  OpmRemarks  \n",
       "0             True        True  \n",
       "1             True        True  \n",
       "2             True        True  \n",
       "3             True        True  \n",
       "4             True        True  "
      ]
     },
     "execution_count": 16,
     "metadata": {},
     "output_type": "execute_result"
    }
   ],
   "source": [
    "dftemp=df.isnull()# donde hay un verdadero hay un dato faltante\n",
    "dftemp.head(5)"
   ]
  },
  {
   "cell_type": "code",
   "execution_count": 17,
   "id": "e4c3cc28-aa9b-45b2-b61f-19f7ea6aea3f",
   "metadata": {
    "tags": []
   },
   "outputs": [
    {
     "name": "stdout",
     "output_type": "stream",
     "text": [
      "SerialNumber\n",
      "False    200334\n",
      "True          2\n",
      "Name: SerialNumber, dtype: int64\n",
      "\n",
      "ListYear\n",
      "False    199998\n",
      "True        338\n",
      "Name: ListYear, dtype: int64\n",
      "\n",
      "DateRecorded\n",
      "False    199996\n",
      "True        340\n",
      "Name: DateRecorded, dtype: int64\n",
      "\n",
      "Town\n",
      "False    199998\n",
      "True        338\n",
      "Name: Town, dtype: int64\n",
      "\n",
      "Address\n",
      "False    199994\n",
      "True        342\n",
      "Name: Address, dtype: int64\n",
      "\n",
      "Assessed Value\n",
      "False    199993\n",
      "True        343\n",
      "Name: Assessed Value, dtype: int64\n",
      "\n",
      "SaleAmount\n",
      "False    199993\n",
      "True        343\n",
      "Name: SaleAmount, dtype: int64\n",
      "\n",
      "SalesRatio\n",
      "False    199993\n",
      "True        343\n",
      "Name: SalesRatio, dtype: int64\n",
      "\n",
      "PropertyType\n",
      "True     133553\n",
      "False     66783\n",
      "Name: PropertyType, dtype: int64\n",
      "\n",
      "ResidentialType\n",
      "True     139401\n",
      "False     60935\n",
      "Name: ResidentialType, dtype: int64\n",
      "\n",
      "NoNuseCode\n",
      "True     154589\n",
      "False     45747\n",
      "Name: NoNuseCode, dtype: int64\n",
      "\n",
      "AssessorRemarks\n",
      "True     185992\n",
      "False     14344\n",
      "Name: AssessorRemarks, dtype: int64\n",
      "\n",
      "OpmRemarks\n",
      "True     198355\n",
      "False      1981\n",
      "Name: OpmRemarks, dtype: int64\n",
      "\n"
     ]
    }
   ],
   "source": [
    "for clumn in dftemp.columns.values.tolist():# indica cuantos valores faltantes hay en cada columna\n",
    "    print(clumn)\n",
    "    print(dftemp[clumn].value_counts())\n",
    "    print(\"\")"
   ]
  },
  {
   "cell_type": "code",
   "execution_count": 18,
   "id": "8a980fc7-6a67-4c53-b8fb-f6e6b3503ff8",
   "metadata": {
    "tags": []
   },
   "outputs": [
    {
     "data": {
      "text/plain": [
       "SerialNumber       float64\n",
       "ListYear           float64\n",
       "DateRecorded        object\n",
       "Town                object\n",
       "Address             object\n",
       "Assessed Value     float64\n",
       "SaleAmount         float64\n",
       "SalesRatio         float64\n",
       "PropertyType        object\n",
       "ResidentialType     object\n",
       "NoNuseCode          object\n",
       "AssessorRemarks     object\n",
       "OpmRemarks          object\n",
       "dtype: object"
      ]
     },
     "execution_count": 18,
     "metadata": {},
     "output_type": "execute_result"
    }
   ],
   "source": [
    "df.dtypes"
   ]
  },
  {
   "cell_type": "code",
   "execution_count": 19,
   "id": "0bdfa5f9-adde-474d-91cd-0d8b7fe99898",
   "metadata": {
    "tags": []
   },
   "outputs": [
    {
     "data": {
      "text/html": [
       "<div>\n",
       "<style scoped>\n",
       "    .dataframe tbody tr th:only-of-type {\n",
       "        vertical-align: middle;\n",
       "    }\n",
       "\n",
       "    .dataframe tbody tr th {\n",
       "        vertical-align: top;\n",
       "    }\n",
       "\n",
       "    .dataframe thead th {\n",
       "        text-align: right;\n",
       "    }\n",
       "</style>\n",
       "<table border=\"1\" class=\"dataframe\">\n",
       "  <thead>\n",
       "    <tr style=\"text-align: right;\">\n",
       "      <th></th>\n",
       "      <th>SerialNumber</th>\n",
       "      <th>ListYear</th>\n",
       "      <th>Assessed Value</th>\n",
       "      <th>SaleAmount</th>\n",
       "      <th>SalesRatio</th>\n",
       "    </tr>\n",
       "  </thead>\n",
       "  <tbody>\n",
       "    <tr>\n",
       "      <th>count</th>\n",
       "      <td>2.003340e+05</td>\n",
       "      <td>199998.000000</td>\n",
       "      <td>1.999930e+05</td>\n",
       "      <td>1.999930e+05</td>\n",
       "      <td>1.999930e+05</td>\n",
       "    </tr>\n",
       "    <tr>\n",
       "      <th>mean</th>\n",
       "      <td>1.114479e+06</td>\n",
       "      <td>2007.821553</td>\n",
       "      <td>2.207152e+07</td>\n",
       "      <td>3.917854e+07</td>\n",
       "      <td>3.315238e+08</td>\n",
       "    </tr>\n",
       "    <tr>\n",
       "      <th>std</th>\n",
       "      <td>1.272892e+07</td>\n",
       "      <td>8.655682</td>\n",
       "      <td>1.167706e+08</td>\n",
       "      <td>1.129725e+09</td>\n",
       "      <td>5.379511e+08</td>\n",
       "    </tr>\n",
       "    <tr>\n",
       "      <th>min</th>\n",
       "      <td>0.000000e+00</td>\n",
       "      <td>2001.000000</td>\n",
       "      <td>0.000000e+00</td>\n",
       "      <td>0.000000e+00</td>\n",
       "      <td>0.000000e+00</td>\n",
       "    </tr>\n",
       "    <tr>\n",
       "      <th>25%</th>\n",
       "      <td>1.097300e+04</td>\n",
       "      <td>2001.000000</td>\n",
       "      <td>6.916100e+06</td>\n",
       "      <td>1.300000e+07</td>\n",
       "      <td>5.781000e+03</td>\n",
       "    </tr>\n",
       "    <tr>\n",
       "      <th>50%</th>\n",
       "      <td>2.040300e+04</td>\n",
       "      <td>2002.000000</td>\n",
       "      <td>1.098900e+07</td>\n",
       "      <td>2.150000e+07</td>\n",
       "      <td>3.260916e+08</td>\n",
       "    </tr>\n",
       "    <tr>\n",
       "      <th>75%</th>\n",
       "      <td>2.000610e+05</td>\n",
       "      <td>2020.000000</td>\n",
       "      <td>1.874300e+07</td>\n",
       "      <td>3.550000e+07</td>\n",
       "      <td>5.171552e+08</td>\n",
       "    </tr>\n",
       "    <tr>\n",
       "      <th>max</th>\n",
       "      <td>2.000500e+09</td>\n",
       "      <td>2020.000000</td>\n",
       "      <td>1.149242e+10</td>\n",
       "      <td>5.000000e+11</td>\n",
       "      <td>9.999574e+09</td>\n",
       "    </tr>\n",
       "  </tbody>\n",
       "</table>\n",
       "</div>"
      ],
      "text/plain": [
       "       SerialNumber       ListYear  Assessed Value    SaleAmount    SalesRatio\n",
       "count  2.003340e+05  199998.000000    1.999930e+05  1.999930e+05  1.999930e+05\n",
       "mean   1.114479e+06    2007.821553    2.207152e+07  3.917854e+07  3.315238e+08\n",
       "std    1.272892e+07       8.655682    1.167706e+08  1.129725e+09  5.379511e+08\n",
       "min    0.000000e+00    2001.000000    0.000000e+00  0.000000e+00  0.000000e+00\n",
       "25%    1.097300e+04    2001.000000    6.916100e+06  1.300000e+07  5.781000e+03\n",
       "50%    2.040300e+04    2002.000000    1.098900e+07  2.150000e+07  3.260916e+08\n",
       "75%    2.000610e+05    2020.000000    1.874300e+07  3.550000e+07  5.171552e+08\n",
       "max    2.000500e+09    2020.000000    1.149242e+10  5.000000e+11  9.999574e+09"
      ]
     },
     "execution_count": 19,
     "metadata": {},
     "output_type": "execute_result"
    }
   ],
   "source": [
    "df.describe()"
   ]
  },
  {
   "cell_type": "markdown",
   "id": "92c179e4-a7df-4f09-b7cf-0dc73fc63297",
   "metadata": {
    "tags": []
   },
   "source": [
    "<h2 Style = \"color:#2e4347\"> 5. Imputacion de valores </h2>"
   ]
  },
  {
   "cell_type": "code",
   "execution_count": 20,
   "id": "7825ce6f-9823-4c28-83a2-a6a4dba19307",
   "metadata": {
    "tags": []
   },
   "outputs": [
    {
     "data": {
      "text/plain": [
       "'07/01/2002'"
      ]
     },
     "execution_count": 20,
     "metadata": {},
     "output_type": "execute_result"
    }
   ],
   "source": [
    "df['DateRecorded'].value_counts().idxmax()"
   ]
  },
  {
   "cell_type": "markdown",
   "id": "0e9f39bd-3a4b-44fe-8090-48eb1de1adf9",
   "metadata": {
    "tags": []
   },
   "source": [
    "df['SalesRatio'].value_counts().idxmax()"
   ]
  },
  {
   "cell_type": "code",
   "execution_count": 21,
   "id": "2c6e5336-a920-4c4a-8f64-eb59bbaeac16",
   "metadata": {
    "tags": []
   },
   "outputs": [
    {
     "data": {
      "text/plain": [
       "'Stamford'"
      ]
     },
     "execution_count": 21,
     "metadata": {},
     "output_type": "execute_result"
    }
   ],
   "source": [
    "df['Town'].value_counts().idxmax()"
   ]
  },
  {
   "cell_type": "code",
   "execution_count": 22,
   "id": "197fe526-b2b5-4874-85a5-592132f46bf7",
   "metadata": {
    "tags": []
   },
   "outputs": [
    {
     "data": {
      "text/plain": [
       "'MULTI ADDRESSES'"
      ]
     },
     "execution_count": 22,
     "metadata": {},
     "output_type": "execute_result"
    }
   ],
   "source": [
    "df['Address'].value_counts().idxmax()"
   ]
  },
  {
   "cell_type": "code",
   "execution_count": 23,
   "id": "20218492-acc8-4c2b-8e66-c1e25de390ab",
   "metadata": {
    "tags": []
   },
   "outputs": [
    {
     "data": {
      "text/plain": [
       "15000000.0"
      ]
     },
     "execution_count": 23,
     "metadata": {},
     "output_type": "execute_result"
    }
   ],
   "source": [
    "df['SaleAmount'].value_counts().idxmax()"
   ]
  },
  {
   "cell_type": "code",
   "execution_count": 24,
   "id": "d8f89ab8-3e7c-41a7-b95e-c96144d76dfd",
   "metadata": {
    "tags": []
   },
   "outputs": [
    {
     "data": {
      "text/plain": [
       "'Residential'"
      ]
     },
     "execution_count": 24,
     "metadata": {},
     "output_type": "execute_result"
    }
   ],
   "source": [
    "df['PropertyType'].value_counts().idxmax()"
   ]
  },
  {
   "cell_type": "code",
   "execution_count": 25,
   "id": "635145dc-bd26-49ce-95e5-00051ca9f3d8",
   "metadata": {
    "tags": []
   },
   "outputs": [
    {
     "data": {
      "text/plain": [
       "'Single Family'"
      ]
     },
     "execution_count": 25,
     "metadata": {},
     "output_type": "execute_result"
    }
   ],
   "source": [
    "df['ResidentialType'].value_counts().idxmax()"
   ]
  },
  {
   "cell_type": "code",
   "execution_count": 26,
   "id": "d8d5c3e9-a312-4bdd-b37a-e5a9389c478f",
   "metadata": {
    "tags": []
   },
   "outputs": [
    {
     "data": {
      "text/plain": [
       "'7'"
      ]
     },
     "execution_count": 26,
     "metadata": {},
     "output_type": "execute_result"
    }
   ],
   "source": [
    "df['NoNuseCode'].value_counts().idxmax()"
   ]
  },
  {
   "cell_type": "code",
   "execution_count": 27,
   "id": "abf06f09-ff02-4498-8abd-bc7a29bd99b3",
   "metadata": {
    "tags": []
   },
   "outputs": [
    {
     "data": {
      "text/plain": [
       "'ESTATE SALE'"
      ]
     },
     "execution_count": 27,
     "metadata": {},
     "output_type": "execute_result"
    }
   ],
   "source": [
    "df['AssessorRemarks'].value_counts().idxmax()"
   ]
  },
  {
   "cell_type": "code",
   "execution_count": 28,
   "id": "34884453-8025-4dfb-882f-d2b651427a57",
   "metadata": {
    "tags": []
   },
   "outputs": [
    {
     "data": {
      "text/plain": [
       "'GOOD SALE PER MLS'"
      ]
     },
     "execution_count": 28,
     "metadata": {},
     "output_type": "execute_result"
    }
   ],
   "source": [
    "df['OpmRemarks'].value_counts().idxmax()"
   ]
  },
  {
   "cell_type": "code",
   "execution_count": 29,
   "id": "c942b27f-5152-4458-9e92-ddc418846bf0",
   "metadata": {
    "tags": []
   },
   "outputs": [],
   "source": [
    "df[\"DateRecorded\"].replace(np.nan,'datetime.datetime(2002, 1, 7, 0, 0)', inplace= True)# Para efectos de proyecto se imputa la fecha por la más repetida\n",
    "df[\"SalesRatio\"].replace(np.nan,'0', inplace= True)\n",
    "df[\"Town\"].replace(np.nan,'Stamford', inplace= True)\n",
    "df[\"Address\"].replace(np.nan,'MULTI ADDRESSES', inplace= True)\n",
    "df[\"SaleAmount\"].replace(np.nan,'150000.00', inplace= True)\n",
    "df[\"PropertyType\"].replace(np.nan,'Residential', inplace= True)\n",
    "df[\"ResidentialType\"].replace(np.nan,'Single Family', inplace= True)\n",
    "df[\"NoNuseCode\"].replace(np.nan,'7', inplace= True)\n",
    "df[\"AssessorRemarks\"].replace(np.nan,'ESTATE SALE', inplace= True)\n",
    "df[\"OpmRemarks\"].replace(np.nan,'GOOD SALE PER MLS', inplace= True)\n",
    "\n"
   ]
  },
  {
   "cell_type": "code",
   "execution_count": 30,
   "id": "69805fd4-d66e-4e5c-b960-3ee63011d371",
   "metadata": {
    "tags": []
   },
   "outputs": [],
   "source": [
    "df.dropna(subset = [\"SalesRatio\"], axis=0, inplace=True) \n",
    "df.reset_index (drop=True, inplace=True)  # se determina que los valores faltantes en Sales ratio no influyen en las preguntas y \n",
    "                                          # no alteran el resultado por lo que  se imputan y se borran."
   ]
  },
  {
   "cell_type": "code",
   "execution_count": 31,
   "id": "2083ae10-3482-4806-9dca-b0e58958f018",
   "metadata": {
    "tags": []
   },
   "outputs": [
    {
     "name": "stdout",
     "output_type": "stream",
     "text": [
      "SerialNumber\n",
      "False    200334\n",
      "True          2\n",
      "Name: SerialNumber, dtype: int64\n",
      "\n",
      "ListYear\n",
      "False    199998\n",
      "True        338\n",
      "Name: ListYear, dtype: int64\n",
      "\n",
      "DateRecorded\n",
      "False    200336\n",
      "Name: DateRecorded, dtype: int64\n",
      "\n",
      "Town\n",
      "False    200336\n",
      "Name: Town, dtype: int64\n",
      "\n",
      "Address\n",
      "False    200336\n",
      "Name: Address, dtype: int64\n",
      "\n",
      "Assessed Value\n",
      "False    199993\n",
      "True        343\n",
      "Name: Assessed Value, dtype: int64\n",
      "\n",
      "SaleAmount\n",
      "False    200336\n",
      "Name: SaleAmount, dtype: int64\n",
      "\n",
      "SalesRatio\n",
      "False    200336\n",
      "Name: SalesRatio, dtype: int64\n",
      "\n",
      "PropertyType\n",
      "False    200336\n",
      "Name: PropertyType, dtype: int64\n",
      "\n",
      "ResidentialType\n",
      "False    200336\n",
      "Name: ResidentialType, dtype: int64\n",
      "\n",
      "NoNuseCode\n",
      "False    200336\n",
      "Name: NoNuseCode, dtype: int64\n",
      "\n",
      "AssessorRemarks\n",
      "False    200336\n",
      "Name: AssessorRemarks, dtype: int64\n",
      "\n",
      "OpmRemarks\n",
      "False    200336\n",
      "Name: OpmRemarks, dtype: int64\n",
      "\n"
     ]
    }
   ],
   "source": [
    "dftemp=df.isnull()\n",
    "for clumn in dftemp.columns.values.tolist():# indica cuantos valores faltantes hay en cada columna\n",
    "    print(clumn)\n",
    "    print(dftemp[clumn].value_counts())\n",
    "    print(\"\")"
   ]
  },
  {
   "cell_type": "code",
   "execution_count": 32,
   "id": "c1985533-50fd-43af-b364-2c19c8dbe9db",
   "metadata": {
    "tags": []
   },
   "outputs": [],
   "source": [
    "df= df.drop (\"NoNuseCode\", axis=1)\n",
    "df= df.drop (\"AssessorRemarks\", axis=1)\n",
    "df= df.drop (\"OpmRemarks\", axis=1)"
   ]
  },
  {
   "cell_type": "code",
   "execution_count": 33,
   "id": "1f1e3230-64f8-4e37-abcc-5b1819d1d5c4",
   "metadata": {
    "tags": []
   },
   "outputs": [
    {
     "name": "stdout",
     "output_type": "stream",
     "text": [
      "SerialNumber\n",
      "False    200334\n",
      "True          2\n",
      "Name: SerialNumber, dtype: int64\n",
      "\n",
      "ListYear\n",
      "False    199998\n",
      "True        338\n",
      "Name: ListYear, dtype: int64\n",
      "\n",
      "DateRecorded\n",
      "False    200336\n",
      "Name: DateRecorded, dtype: int64\n",
      "\n",
      "Town\n",
      "False    200336\n",
      "Name: Town, dtype: int64\n",
      "\n",
      "Address\n",
      "False    200336\n",
      "Name: Address, dtype: int64\n",
      "\n",
      "Assessed Value\n",
      "False    199993\n",
      "True        343\n",
      "Name: Assessed Value, dtype: int64\n",
      "\n",
      "SaleAmount\n",
      "False    200336\n",
      "Name: SaleAmount, dtype: int64\n",
      "\n",
      "SalesRatio\n",
      "False    200336\n",
      "Name: SalesRatio, dtype: int64\n",
      "\n",
      "PropertyType\n",
      "False    200336\n",
      "Name: PropertyType, dtype: int64\n",
      "\n",
      "ResidentialType\n",
      "False    200336\n",
      "Name: ResidentialType, dtype: int64\n",
      "\n"
     ]
    }
   ],
   "source": [
    "dftemp=df.isnull()\n",
    "for clumn in dftemp.columns.values.tolist():# indica cuantos valores faltantes hay en cada columna\n",
    "    print(clumn)\n",
    "    print(dftemp[clumn].value_counts())\n",
    "    print(\"\")"
   ]
  },
  {
   "cell_type": "code",
   "execution_count": 34,
   "id": "2d53926f-8918-45fb-8cde-c6ba426bf167",
   "metadata": {
    "tags": []
   },
   "outputs": [
    {
     "data": {
      "text/html": [
       "<div>\n",
       "<style scoped>\n",
       "    .dataframe tbody tr th:only-of-type {\n",
       "        vertical-align: middle;\n",
       "    }\n",
       "\n",
       "    .dataframe tbody tr th {\n",
       "        vertical-align: top;\n",
       "    }\n",
       "\n",
       "    .dataframe thead th {\n",
       "        text-align: right;\n",
       "    }\n",
       "</style>\n",
       "<table border=\"1\" class=\"dataframe\">\n",
       "  <thead>\n",
       "    <tr style=\"text-align: right;\">\n",
       "      <th></th>\n",
       "      <th>SerialNumber</th>\n",
       "      <th>ListYear</th>\n",
       "      <th>DateRecorded</th>\n",
       "      <th>Town</th>\n",
       "      <th>Address</th>\n",
       "      <th>Assessed Value</th>\n",
       "      <th>SaleAmount</th>\n",
       "      <th>SalesRatio</th>\n",
       "      <th>PropertyType</th>\n",
       "      <th>ResidentialType</th>\n",
       "    </tr>\n",
       "  </thead>\n",
       "  <tbody>\n",
       "    <tr>\n",
       "      <th>0</th>\n",
       "      <td>2020348.0</td>\n",
       "      <td>2020.0</td>\n",
       "      <td>09/13/2021</td>\n",
       "      <td>Ansonia</td>\n",
       "      <td>230 WAKELEE AVE</td>\n",
       "      <td>15050000.0</td>\n",
       "      <td>32500000.0</td>\n",
       "      <td>463.0</td>\n",
       "      <td>Commercial</td>\n",
       "      <td>Single Family</td>\n",
       "    </tr>\n",
       "    <tr>\n",
       "      <th>1</th>\n",
       "      <td>20002.0</td>\n",
       "      <td>2020.0</td>\n",
       "      <td>10/02/2020</td>\n",
       "      <td>Ashford</td>\n",
       "      <td>390 TURNPIKE RD</td>\n",
       "      <td>25300000.0</td>\n",
       "      <td>43000000.0</td>\n",
       "      <td>5883.0</td>\n",
       "      <td>Residential</td>\n",
       "      <td>Single Family</td>\n",
       "    </tr>\n",
       "    <tr>\n",
       "      <th>2</th>\n",
       "      <td>200212.0</td>\n",
       "      <td>2020.0</td>\n",
       "      <td>03/09/2021</td>\n",
       "      <td>Avon</td>\n",
       "      <td>5 CHESTNUT DRIVE</td>\n",
       "      <td>13040000.0</td>\n",
       "      <td>17990000.0</td>\n",
       "      <td>7248.0</td>\n",
       "      <td>Residential</td>\n",
       "      <td>Condo</td>\n",
       "    </tr>\n",
       "    <tr>\n",
       "      <th>3</th>\n",
       "      <td>200243.0</td>\n",
       "      <td>2020.0</td>\n",
       "      <td>04/13/2021</td>\n",
       "      <td>Avon</td>\n",
       "      <td>111 NORTHINGTON DRIVE</td>\n",
       "      <td>61929000.0</td>\n",
       "      <td>89000000.0</td>\n",
       "      <td>6958.0</td>\n",
       "      <td>Residential</td>\n",
       "      <td>Single Family</td>\n",
       "    </tr>\n",
       "    <tr>\n",
       "      <th>4</th>\n",
       "      <td>200377.0</td>\n",
       "      <td>2020.0</td>\n",
       "      <td>07/02/2021</td>\n",
       "      <td>Avon</td>\n",
       "      <td>70 FAR HILLS DRIVE</td>\n",
       "      <td>86233000.0</td>\n",
       "      <td>144750000.0</td>\n",
       "      <td>5957.0</td>\n",
       "      <td>Residential</td>\n",
       "      <td>Single Family</td>\n",
       "    </tr>\n",
       "  </tbody>\n",
       "</table>\n",
       "</div>"
      ],
      "text/plain": [
       "   SerialNumber  ListYear DateRecorded     Town                Address  \\\n",
       "0     2020348.0    2020.0   09/13/2021  Ansonia        230 WAKELEE AVE   \n",
       "1       20002.0    2020.0   10/02/2020  Ashford        390 TURNPIKE RD   \n",
       "2      200212.0    2020.0   03/09/2021     Avon       5 CHESTNUT DRIVE   \n",
       "3      200243.0    2020.0   04/13/2021     Avon  111 NORTHINGTON DRIVE   \n",
       "4      200377.0    2020.0   07/02/2021     Avon     70 FAR HILLS DRIVE   \n",
       "\n",
       "   Assessed Value   SaleAmount SalesRatio PropertyType ResidentialType  \n",
       "0      15050000.0   32500000.0      463.0   Commercial   Single Family  \n",
       "1      25300000.0   43000000.0     5883.0  Residential   Single Family  \n",
       "2      13040000.0   17990000.0     7248.0  Residential           Condo  \n",
       "3      61929000.0   89000000.0     6958.0  Residential   Single Family  \n",
       "4      86233000.0  144750000.0     5957.0  Residential   Single Family  "
      ]
     },
     "execution_count": 34,
     "metadata": {},
     "output_type": "execute_result"
    }
   ],
   "source": [
    "df.head(5)"
   ]
  },
  {
   "cell_type": "code",
   "execution_count": 35,
   "id": "40937990-eaf6-480b-91be-2e077cf83de1",
   "metadata": {
    "tags": []
   },
   "outputs": [
    {
     "name": "stdout",
     "output_type": "stream",
     "text": [
      "<class 'pandas.core.frame.DataFrame'>\n",
      "RangeIndex: 200336 entries, 0 to 200335\n",
      "Data columns (total 10 columns):\n",
      " #   Column           Non-Null Count   Dtype  \n",
      "---  ------           --------------   -----  \n",
      " 0   SerialNumber     200334 non-null  float64\n",
      " 1   ListYear         199998 non-null  float64\n",
      " 2   DateRecorded     200336 non-null  object \n",
      " 3   Town             200336 non-null  object \n",
      " 4   Address          200336 non-null  object \n",
      " 5   Assessed Value   199993 non-null  float64\n",
      " 6   SaleAmount       200336 non-null  object \n",
      " 7   SalesRatio       200336 non-null  object \n",
      " 8   PropertyType     200336 non-null  object \n",
      " 9   ResidentialType  200336 non-null  object \n",
      "dtypes: float64(3), object(7)\n",
      "memory usage: 15.3+ MB\n"
     ]
    }
   ],
   "source": [
    "df.info()\n"
   ]
  },
  {
   "cell_type": "code",
   "execution_count": 36,
   "id": "c2cd41b3-fade-40a5-ae82-64dd0c65a5c3",
   "metadata": {
    "tags": []
   },
   "outputs": [],
   "source": [
    "df.dropna(subset=['SerialNumber'],axis=0,inplace=True)\n",
    "df.reset_index(drop=True, inplace=True)"
   ]
  },
  {
   "cell_type": "code",
   "execution_count": 37,
   "id": "1856ae91-2c18-47e2-a110-9c1967cfc61c",
   "metadata": {
    "tags": []
   },
   "outputs": [
    {
     "name": "stdout",
     "output_type": "stream",
     "text": [
      "SerialNumber\n",
      "False    200334\n",
      "Name: SerialNumber, dtype: int64\n",
      "\n",
      "ListYear\n",
      "False    199998\n",
      "True        336\n",
      "Name: ListYear, dtype: int64\n",
      "\n",
      "DateRecorded\n",
      "False    200334\n",
      "Name: DateRecorded, dtype: int64\n",
      "\n",
      "Town\n",
      "False    200334\n",
      "Name: Town, dtype: int64\n",
      "\n",
      "Address\n",
      "False    200334\n",
      "Name: Address, dtype: int64\n",
      "\n",
      "Assessed Value\n",
      "False    199993\n",
      "True        341\n",
      "Name: Assessed Value, dtype: int64\n",
      "\n",
      "SaleAmount\n",
      "False    200334\n",
      "Name: SaleAmount, dtype: int64\n",
      "\n",
      "SalesRatio\n",
      "False    200334\n",
      "Name: SalesRatio, dtype: int64\n",
      "\n",
      "PropertyType\n",
      "False    200334\n",
      "Name: PropertyType, dtype: int64\n",
      "\n",
      "ResidentialType\n",
      "False    200334\n",
      "Name: ResidentialType, dtype: int64\n",
      "\n"
     ]
    }
   ],
   "source": [
    "dftemp=df.isnull()\n",
    "for clumn in dftemp.columns.values.tolist():# indica cuantos valores faltantes hay en cada columna\n",
    "    print(clumn)\n",
    "    print(dftemp[clumn].value_counts())\n",
    "    print(\"\")"
   ]
  },
  {
   "cell_type": "code",
   "execution_count": 38,
   "id": "8d223396-c3f6-4923-8202-5e7ea1f8e30f",
   "metadata": {
    "tags": []
   },
   "outputs": [
    {
     "data": {
      "text/html": [
       "<div>\n",
       "<style scoped>\n",
       "    .dataframe tbody tr th:only-of-type {\n",
       "        vertical-align: middle;\n",
       "    }\n",
       "\n",
       "    .dataframe tbody tr th {\n",
       "        vertical-align: top;\n",
       "    }\n",
       "\n",
       "    .dataframe thead th {\n",
       "        text-align: right;\n",
       "    }\n",
       "</style>\n",
       "<table border=\"1\" class=\"dataframe\">\n",
       "  <thead>\n",
       "    <tr style=\"text-align: right;\">\n",
       "      <th></th>\n",
       "      <th>SerialNumber</th>\n",
       "      <th>ListYear</th>\n",
       "      <th>Assessed Value</th>\n",
       "    </tr>\n",
       "  </thead>\n",
       "  <tbody>\n",
       "    <tr>\n",
       "      <th>count</th>\n",
       "      <td>2.003340e+05</td>\n",
       "      <td>199998.000000</td>\n",
       "      <td>1.999930e+05</td>\n",
       "    </tr>\n",
       "    <tr>\n",
       "      <th>mean</th>\n",
       "      <td>1.114479e+06</td>\n",
       "      <td>2007.821553</td>\n",
       "      <td>2.207152e+07</td>\n",
       "    </tr>\n",
       "    <tr>\n",
       "      <th>std</th>\n",
       "      <td>1.272892e+07</td>\n",
       "      <td>8.655682</td>\n",
       "      <td>1.167706e+08</td>\n",
       "    </tr>\n",
       "    <tr>\n",
       "      <th>min</th>\n",
       "      <td>0.000000e+00</td>\n",
       "      <td>2001.000000</td>\n",
       "      <td>0.000000e+00</td>\n",
       "    </tr>\n",
       "    <tr>\n",
       "      <th>25%</th>\n",
       "      <td>1.097300e+04</td>\n",
       "      <td>2001.000000</td>\n",
       "      <td>6.916100e+06</td>\n",
       "    </tr>\n",
       "    <tr>\n",
       "      <th>50%</th>\n",
       "      <td>2.040300e+04</td>\n",
       "      <td>2002.000000</td>\n",
       "      <td>1.098900e+07</td>\n",
       "    </tr>\n",
       "    <tr>\n",
       "      <th>75%</th>\n",
       "      <td>2.000610e+05</td>\n",
       "      <td>2020.000000</td>\n",
       "      <td>1.874300e+07</td>\n",
       "    </tr>\n",
       "    <tr>\n",
       "      <th>max</th>\n",
       "      <td>2.000500e+09</td>\n",
       "      <td>2020.000000</td>\n",
       "      <td>1.149242e+10</td>\n",
       "    </tr>\n",
       "  </tbody>\n",
       "</table>\n",
       "</div>"
      ],
      "text/plain": [
       "       SerialNumber       ListYear  Assessed Value\n",
       "count  2.003340e+05  199998.000000    1.999930e+05\n",
       "mean   1.114479e+06    2007.821553    2.207152e+07\n",
       "std    1.272892e+07       8.655682    1.167706e+08\n",
       "min    0.000000e+00    2001.000000    0.000000e+00\n",
       "25%    1.097300e+04    2001.000000    6.916100e+06\n",
       "50%    2.040300e+04    2002.000000    1.098900e+07\n",
       "75%    2.000610e+05    2020.000000    1.874300e+07\n",
       "max    2.000500e+09    2020.000000    1.149242e+10"
      ]
     },
     "execution_count": 38,
     "metadata": {},
     "output_type": "execute_result"
    }
   ],
   "source": [
    "df.describe()"
   ]
  },
  {
   "cell_type": "code",
   "execution_count": 39,
   "id": "2e0f4f95-10b4-4020-88e8-f82e6590fa47",
   "metadata": {
    "tags": []
   },
   "outputs": [
    {
     "name": "stdout",
     "output_type": "stream",
     "text": [
      "<class 'pandas.core.frame.DataFrame'>\n",
      "RangeIndex: 200334 entries, 0 to 200333\n",
      "Data columns (total 10 columns):\n",
      " #   Column           Non-Null Count   Dtype  \n",
      "---  ------           --------------   -----  \n",
      " 0   SerialNumber     200334 non-null  float64\n",
      " 1   ListYear         199998 non-null  float64\n",
      " 2   DateRecorded     200334 non-null  object \n",
      " 3   Town             200334 non-null  object \n",
      " 4   Address          200334 non-null  object \n",
      " 5   Assessed Value   199993 non-null  float64\n",
      " 6   SaleAmount       200334 non-null  object \n",
      " 7   SalesRatio       200334 non-null  object \n",
      " 8   PropertyType     200334 non-null  object \n",
      " 9   ResidentialType  200334 non-null  object \n",
      "dtypes: float64(3), object(7)\n",
      "memory usage: 15.3+ MB\n"
     ]
    }
   ],
   "source": [
    "df.info()"
   ]
  },
  {
   "cell_type": "markdown",
   "id": "eda07ec4-cbc4-41db-bb56-8549ed592472",
   "metadata": {
    "tags": []
   },
   "source": [
    "<h2 Style = \"color:#2e4347\"> 6. Estandarizacion de datos </h2>"
   ]
  },
  {
   "cell_type": "code",
   "execution_count": 40,
   "id": "8f6dc5b2-805f-49f7-8bcf-86e7144cff2b",
   "metadata": {
    "tags": []
   },
   "outputs": [
    {
     "data": {
      "text/plain": [
       "0               463.0\n",
       "1              5883.0\n",
       "2              7248.0\n",
       "3              6958.0\n",
       "4              5957.0\n",
       "             ...     \n",
       "200329    394972067.0\n",
       "200330    467728155.0\n",
       "200331    617923077.0\n",
       "200332    532538462.0\n",
       "200333    489253333.0\n",
       "Name: SalesRatio, Length: 200334, dtype: float64"
      ]
     },
     "execution_count": 40,
     "metadata": {},
     "output_type": "execute_result"
    }
   ],
   "source": [
    "df['SalesRatio'].astype(str).str.replace(\",\", \"\").astype(float)"
   ]
  },
  {
   "cell_type": "markdown",
   "id": "e4795fed-e291-4e15-bb65-86bbf69285d8",
   "metadata": {},
   "source": [
    "<p>1. ¿Cuál es el ingreso anual de las propiedades vendidas?</p>"
   ]
  },
  {
   "cell_type": "code",
   "execution_count": null,
   "id": "af076c61-ddfa-4121-8533-78f129658393",
   "metadata": {
    "tags": []
   },
   "outputs": [],
   "source": [
    "df['SaleAmount'].sum()"
   ]
  },
  {
   "cell_type": "markdown",
   "id": "5b2919d2-915e-4654-bc8f-02406859780b",
   "metadata": {},
   "source": [
    "<p>1. Deacuerdo al estudio realizado el ingreso anual es de  7835433956802.0 </p>\n"
   ]
  },
  {
   "cell_type": "code",
   "execution_count": null,
   "id": "e30f60a6-0f60-4f31-a337-42af09f04894",
   "metadata": {
    "tags": []
   },
   "outputs": [],
   "source": [
    "df['SaleAmount']= pd.to_numeric(df['SaleAmount'],errors='coerce')# coaccionar \"coerce\" el analisis no valido se establecera NaN\n",
    "ingresoanual=df.groupby('ListYear')['SaleAmount'].sum()#Una operación groupby implica alguna combinación de dividir el objeto,\n",
    "#aplicando una función y combinando los resultados.\n",
    "#Esto puede ser Se utiliza para agrupar grandes cantidades de datos y operaciones de cómputo en estos grupos.\n",
    "print(ingresoanual)"
   ]
  },
  {
   "cell_type": "code",
   "execution_count": null,
   "id": "5dbd3e39-27d8-4579-99c3-30ef462acf43",
   "metadata": {
    "tags": []
   },
   "outputs": [],
   "source": [
    "df['PropertyType'].value_counts().idxmax()"
   ]
  },
  {
   "cell_type": "code",
   "execution_count": null,
   "id": "ca6e9a52-38d6-4ebd-883f-3b3acda6f707",
   "metadata": {
    "tags": []
   },
   "outputs": [],
   "source": [
    "df['Town'].value_counts().idxmax()"
   ]
  },
  {
   "cell_type": "code",
   "execution_count": null,
   "id": "4a6336be-0798-4aee-b5b6-6770d1756cf9",
   "metadata": {
    "tags": []
   },
   "outputs": [],
   "source": [
    "df['ResidentialType'].value_counts().idxmax()"
   ]
  },
  {
   "cell_type": "code",
   "execution_count": null,
   "id": "dafeb976-104b-4834-b2f1-48c0ebffd190",
   "metadata": {},
   "outputs": [],
   "source": [
    "plt.scatter(df['ListYear'],df['SaleAmount'] )\n",
    "plt.title('Ingreso anual de propiedades vencidas')\n",
    "plt.xlabel('Year')# para colocar los nombres en x y y \n",
    "plt.ylabel('Ingreso anual')\n",
    "ingresomax=ingresoanual.idxmax()\n",
    "plt.show()\n",
    "\n",
    "        \n"
   ]
  },
  {
   "cell_type": "code",
   "execution_count": null,
   "id": "91ee0843-24ae-43f6-a466-6ff4bb0a70d6",
   "metadata": {
    "tags": []
   },
   "outputs": [],
   "source": [
    "fig, ax = plt.subplots(1,1, figsize = (15,6.9), dpi=100)\n",
    "\n",
    "n = 222\n",
    "x = df['ListYear']\n",
    "y = df['SaleAmount']\n",
    "\n",
    "ax.scatter(x, y, c='#eb7f7f', alpha=0.3, edgecolors='none')\n",
    "ax.grid(True)\n",
    "title = \"Grafico 2: Vehiculos en Inventario\"\n",
    "plt.suptitle(title,\n",
    "            horizontalalignment = 'left',\n",
    "            x = 0.001,\n",
    "            y = 0.87,\n",
    "            transform = fig.transFigure,\n",
    "            fontsize = 20,\n",
    "            fontweight = \"bold\",\n",
    "            fontfamily = \"serif\")\n",
    "\n",
    "#formato del subtitulo\n",
    "stitle = \"¿Cuál es el ingreso anual de las propiedades vendidas? \"\n",
    "ax.set_title(stitle,\n",
    "            horizontalalignment = 'left',\n",
    "            x = 0.001,\n",
    "            y = 0.80,\n",
    "            transform = fig.transFigure,\n",
    "            fontsize = 11,\n",
    "            fontweight = \"regular\",\n",
    "            fontfamily = \"serif\")\n",
    "\n",
    "#formato del eje X\n",
    "etiqueta = \"Year\"\n",
    "ax.set_xlabel(etiqueta,\n",
    "             ha = 'left',\n",
    "             fontsize = 10,\n",
    "             fontweight = \"regular\",\n",
    "             fontfamily = \"serif\")\n",
    "\n",
    "#formato del eje Y\n",
    "etiqueta_y = \" Monto \"\n",
    "ax.set_ylabel(etiqueta_y,\n",
    "             ha = 'left',\n",
    "             fontsize = 10,\n",
    "             fontweight = \"regular\",\n",
    "             fontfamily = \"serif\")\n",
    "\n",
    "#Configuracion de coordenadas de la etique del eje x - y\n",
    "ax.xaxis.set_label_coords(x=0, y= -0.08, transform= ax.transAxes)\n",
    "ax.yaxis.set_label_coords(x=-0.03, y= 0.53, transform= ax.transAxes)\n",
    "\n",
    "#configuracion del tamano\n",
    "ax.tick_params(axis='both', \n",
    "               labelsize = 10)\n",
    "\n",
    "#Congiruacion de la ubicacion del grafico\n",
    "plt.subplots_adjust(top=0.78)\n",
    "\n",
    "\n",
    "plt.show()"
   ]
  },
  {
   "cell_type": "code",
   "execution_count": null,
   "id": "9e0b1e1f-b1b5-487e-8566-41406ea2f040",
   "metadata": {
    "tags": []
   },
   "outputs": [],
   "source": [
    "profacilventa=df['PropertyType'].value_counts()\n",
    "print(profacilventa)"
   ]
  },
  {
   "cell_type": "code",
   "execution_count": null,
   "id": "cfd2e4ab-bb44-4a51-8df9-6a9b98647b96",
   "metadata": {
    "tags": []
   },
   "outputs": [],
   "source": [
    "profacilventa.plot(kind='bar')\n",
    "plt.title('Propiedades facil venta')\n",
    "plt.xlabel('Tipo de propiedades')# para colocar los nombres en x y y \n",
    "plt.ylabel('Cantidad')\n",
    "\n",
    "plt.show()"
   ]
  },
  {
   "cell_type": "code",
   "execution_count": null,
   "id": "33a94d20-2865-4429-bee3-639e2c120b18",
   "metadata": {
    "tags": []
   },
   "outputs": [],
   "source": [
    "<p> Deacuerdo al estudio realizado la propiedad con mayor facilidad en venta en primer lugar es la Recidential , en segundo lugar Vacant land y en tercer lugar Comercial</p>"
   ]
  },
  {
   "cell_type": "code",
   "execution_count": null,
   "id": "2da76a8d-f800-4e19-8cf6-1407f0952f76",
   "metadata": {},
   "outputs": [],
   "source": []
  }
 ],
 "metadata": {
  "kernelspec": {
   "display_name": "Python 3 (ipykernel)",
   "language": "python",
   "name": "python3"
  },
  "language_info": {
   "codemirror_mode": {
    "name": "ipython",
    "version": 3
   },
   "file_extension": ".py",
   "mimetype": "text/x-python",
   "name": "python",
   "nbconvert_exporter": "python",
   "pygments_lexer": "ipython3",
   "version": "3.11.4"
  }
 },
 "nbformat": 4,
 "nbformat_minor": 5
}
